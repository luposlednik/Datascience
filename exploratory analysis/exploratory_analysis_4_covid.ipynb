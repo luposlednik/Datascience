{
  "nbformat": 4,
  "nbformat_minor": 0,
  "metadata": {
    "colab": {
      "provenance": [],
      "collapsed_sections": []
    },
    "kernelspec": {
      "name": "python3",
      "display_name": "Python 3"
    },
    "language_info": {
      "name": "python"
    }
  },
  "cells": [
    {
      "cell_type": "markdown",
      "metadata": {
        "id": "Ip-ln7NoTna0"
      },
      "source": [
        "# Checkpoint 1 - Análise Covid Brasil"
      ]
    },
    {
      "cell_type": "markdown",
      "metadata": {
        "id": "amL0aL-QT3X4"
      },
      "source": [
        "## Carregar módulos"
      ]
    },
    {
      "cell_type": "code",
      "metadata": {
        "id": "dy4tAdLXT3c3"
      },
      "source": [
        "import numpy as np\n",
        "import pandas as pd\n",
        "import matplotlib.pyplot as plt\n",
        "import seaborn as sns"
      ],
      "execution_count": null,
      "outputs": []
    },
    {
      "cell_type": "markdown",
      "metadata": {
        "id": "-4a8IgMBT3gr"
      },
      "source": [
        "## Carregar dados"
      ]
    },
    {
      "cell_type": "markdown",
      "metadata": {
        "id": "VnfWrvXjQ-ZU"
      },
      "source": [
        "- Dados Covid Brasil"
      ]
    },
    {
      "cell_type": "code",
      "metadata": {
        "colab": {
          "base_uri": "https://localhost:8080/"
        },
        "id": "bfb7qKtta_8T",
        "outputId": "6129159d-1a46-4a63-8da3-375dc3fb638c"
      },
      "source": [
        "! wget --no-check-certificate --content-disposition 'https://github.com/wcota/covid19br/blob/master/cases-brazil-cities-time.csv.gz?raw=true'"
      ],
      "execution_count": null,
      "outputs": [
        {
          "output_type": "stream",
          "text": [
            "--2021-08-29 21:10:11--  https://github.com/wcota/covid19br/blob/master/cases-brazil-cities-time.csv.gz?raw=true\n",
            "Resolving github.com (github.com)... 140.82.121.3\n",
            "Connecting to github.com (github.com)|140.82.121.3|:443... connected.\n",
            "HTTP request sent, awaiting response... 302 Found\n",
            "Location: https://github.com/wcota/covid19br/raw/master/cases-brazil-cities-time.csv.gz [following]\n",
            "--2021-08-29 21:10:11--  https://github.com/wcota/covid19br/raw/master/cases-brazil-cities-time.csv.gz\n",
            "Reusing existing connection to github.com:443.\n",
            "HTTP request sent, awaiting response... 302 Found\n",
            "Location: https://raw.githubusercontent.com/wcota/covid19br/master/cases-brazil-cities-time.csv.gz [following]\n",
            "--2021-08-29 21:10:11--  https://raw.githubusercontent.com/wcota/covid19br/master/cases-brazil-cities-time.csv.gz\n",
            "Resolving raw.githubusercontent.com (raw.githubusercontent.com)... 185.199.111.133, 185.199.110.133, 185.199.109.133, ...\n",
            "Connecting to raw.githubusercontent.com (raw.githubusercontent.com)|185.199.111.133|:443... connected.\n",
            "HTTP request sent, awaiting response... 200 OK\n",
            "Length: 80581725 (77M) [application/octet-stream]\n",
            "Saving to: ‘cases-brazil-cities-time.csv.gz’\n",
            "\n",
            "cases-brazil-cities 100%[===================>]  76.85M   245MB/s    in 0.3s    \n",
            "\n",
            "2021-08-29 21:10:15 (245 MB/s) - ‘cases-brazil-cities-time.csv.gz’ saved [80581725/80581725]\n",
            "\n"
          ],
          "name": "stdout"
        }
      ]
    },
    {
      "cell_type": "code",
      "metadata": {
        "id": "O0cvZDFOb3mL"
      },
      "source": [
        "! gunzip cases-brazil-cities-time.csv.gz"
      ],
      "execution_count": null,
      "outputs": []
    },
    {
      "cell_type": "code",
      "metadata": {
        "id": "GWy73yd4aadf"
      },
      "source": [
        "dados_brasil = pd.read_csv('cases-brazil-cities-time.csv')"
      ],
      "execution_count": null,
      "outputs": []
    },
    {
      "cell_type": "markdown",
      "metadata": {
        "id": "y4rLc7DmRTsb"
      },
      "source": [
        "- Dados censo"
      ]
    },
    {
      "cell_type": "code",
      "metadata": {
        "id": "IAfG_wH6RTxz"
      },
      "source": [
        "dados_censo = pd.read_csv('dados_municipios_2010.csv', sep = ';', decimal = ',', encoding = 'latin1')"
      ],
      "execution_count": null,
      "outputs": []
    },
    {
      "cell_type": "markdown",
      "metadata": {
        "id": "WltBdBdIYGHG"
      },
      "source": [
        "## Ajustar dados"
      ]
    },
    {
      "cell_type": "code",
      "metadata": {
        "id": "Q8pEkZrzT32V"
      },
      "source": [
        "max_date = max(dados_brasil['date'])"
      ],
      "execution_count": null,
      "outputs": []
    },
    {
      "cell_type": "code",
      "metadata": {
        "id": "SSyzaKD5T36E"
      },
      "source": [
        "dados_brasil = dados_brasil[(dados_brasil['date'] == max_date) & \\\n",
        "                            (dados_brasil['state'] != 'TOTAL')]"
      ],
      "execution_count": null,
      "outputs": []
    },
    {
      "cell_type": "code",
      "metadata": {
        "id": "rWTG9vnTgi0J"
      },
      "source": [
        "cols = ['ibgeID', 'date', 'state', 'city', 'totalCases', 'deaths']"
      ],
      "execution_count": null,
      "outputs": []
    },
    {
      "cell_type": "code",
      "metadata": {
        "id": "MMDDAVCNgi3q"
      },
      "source": [
        "dados_brasil = dados_brasil[cols].reset_index(drop=True)"
      ],
      "execution_count": null,
      "outputs": []
    },
    {
      "cell_type": "markdown",
      "metadata": {
        "id": "vr1mYB46gi7i"
      },
      "source": [
        "## Aqui começa o trabalho"
      ]
    },
    {
      "cell_type": "code",
      "metadata": {
        "id": "R2LLERRWiLLK",
        "colab": {
          "base_uri": "https://localhost:8080/",
          "height": 362
        },
        "outputId": "c91d8154-b1ce-48a6-ab35-f7fa4825b0ed"
      },
      "source": [
        "dados_brasil.head(10)"
      ],
      "execution_count": null,
      "outputs": [
        {
          "output_type": "execute_result",
          "data": {
            "text/html": [
              "<div>\n",
              "<style scoped>\n",
              "    .dataframe tbody tr th:only-of-type {\n",
              "        vertical-align: middle;\n",
              "    }\n",
              "\n",
              "    .dataframe tbody tr th {\n",
              "        vertical-align: top;\n",
              "    }\n",
              "\n",
              "    .dataframe thead th {\n",
              "        text-align: right;\n",
              "    }\n",
              "</style>\n",
              "<table border=\"1\" class=\"dataframe\">\n",
              "  <thead>\n",
              "    <tr style=\"text-align: right;\">\n",
              "      <th></th>\n",
              "      <th>ibgeID</th>\n",
              "      <th>date</th>\n",
              "      <th>state</th>\n",
              "      <th>city</th>\n",
              "      <th>totalCases</th>\n",
              "      <th>deaths</th>\n",
              "    </tr>\n",
              "  </thead>\n",
              "  <tbody>\n",
              "    <tr>\n",
              "      <th>0</th>\n",
              "      <td>5200050</td>\n",
              "      <td>2021-08-27</td>\n",
              "      <td>GO</td>\n",
              "      <td>Abadia de Goiás/GO</td>\n",
              "      <td>1739</td>\n",
              "      <td>37</td>\n",
              "    </tr>\n",
              "    <tr>\n",
              "      <th>1</th>\n",
              "      <td>3100104</td>\n",
              "      <td>2021-08-27</td>\n",
              "      <td>MG</td>\n",
              "      <td>Abadia dos Dourados/MG</td>\n",
              "      <td>555</td>\n",
              "      <td>17</td>\n",
              "    </tr>\n",
              "    <tr>\n",
              "      <th>2</th>\n",
              "      <td>5200100</td>\n",
              "      <td>2021-08-27</td>\n",
              "      <td>GO</td>\n",
              "      <td>Abadiânia/GO</td>\n",
              "      <td>498</td>\n",
              "      <td>42</td>\n",
              "    </tr>\n",
              "    <tr>\n",
              "      <th>3</th>\n",
              "      <td>1500107</td>\n",
              "      <td>2021-08-27</td>\n",
              "      <td>PA</td>\n",
              "      <td>Abaetetuba/PA</td>\n",
              "      <td>9257</td>\n",
              "      <td>224</td>\n",
              "    </tr>\n",
              "    <tr>\n",
              "      <th>4</th>\n",
              "      <td>3100203</td>\n",
              "      <td>2021-08-27</td>\n",
              "      <td>MG</td>\n",
              "      <td>Abaeté/MG</td>\n",
              "      <td>1587</td>\n",
              "      <td>39</td>\n",
              "    </tr>\n",
              "    <tr>\n",
              "      <th>5</th>\n",
              "      <td>2300101</td>\n",
              "      <td>2021-08-27</td>\n",
              "      <td>CE</td>\n",
              "      <td>Abaiara/CE</td>\n",
              "      <td>623</td>\n",
              "      <td>15</td>\n",
              "    </tr>\n",
              "    <tr>\n",
              "      <th>6</th>\n",
              "      <td>2900207</td>\n",
              "      <td>2021-08-27</td>\n",
              "      <td>BA</td>\n",
              "      <td>Abaré/BA</td>\n",
              "      <td>1023</td>\n",
              "      <td>11</td>\n",
              "    </tr>\n",
              "    <tr>\n",
              "      <th>7</th>\n",
              "      <td>4100103</td>\n",
              "      <td>2021-08-27</td>\n",
              "      <td>PR</td>\n",
              "      <td>Abatiá/PR</td>\n",
              "      <td>1118</td>\n",
              "      <td>20</td>\n",
              "    </tr>\n",
              "    <tr>\n",
              "      <th>8</th>\n",
              "      <td>2900108</td>\n",
              "      <td>2021-08-27</td>\n",
              "      <td>BA</td>\n",
              "      <td>Abaíra/BA</td>\n",
              "      <td>297</td>\n",
              "      <td>12</td>\n",
              "    </tr>\n",
              "    <tr>\n",
              "      <th>9</th>\n",
              "      <td>4200051</td>\n",
              "      <td>2021-08-27</td>\n",
              "      <td>SC</td>\n",
              "      <td>Abdon Batista/SC</td>\n",
              "      <td>441</td>\n",
              "      <td>4</td>\n",
              "    </tr>\n",
              "  </tbody>\n",
              "</table>\n",
              "</div>"
            ],
            "text/plain": [
              "    ibgeID        date state                    city  totalCases  deaths\n",
              "0  5200050  2021-08-27    GO      Abadia de Goiás/GO        1739      37\n",
              "1  3100104  2021-08-27    MG  Abadia dos Dourados/MG         555      17\n",
              "2  5200100  2021-08-27    GO            Abadiânia/GO         498      42\n",
              "3  1500107  2021-08-27    PA           Abaetetuba/PA        9257     224\n",
              "4  3100203  2021-08-27    MG               Abaeté/MG        1587      39\n",
              "5  2300101  2021-08-27    CE              Abaiara/CE         623      15\n",
              "6  2900207  2021-08-27    BA                Abaré/BA        1023      11\n",
              "7  4100103  2021-08-27    PR               Abatiá/PR        1118      20\n",
              "8  2900108  2021-08-27    BA               Abaíra/BA         297      12\n",
              "9  4200051  2021-08-27    SC        Abdon Batista/SC         441       4"
            ]
          },
          "metadata": {},
          "execution_count": 10
        }
      ]
    },
    {
      "cell_type": "code",
      "metadata": {
        "colab": {
          "base_uri": "https://localhost:8080/",
          "height": 362
        },
        "id": "I2JwShICNfVD",
        "outputId": "8b961069-7b73-4d58-c922-427d80165850"
      },
      "source": [
        "dados_censo.head(10)"
      ],
      "execution_count": null,
      "outputs": [
        {
          "output_type": "execute_result",
          "data": {
            "text/html": [
              "<div>\n",
              "<style scoped>\n",
              "    .dataframe tbody tr th:only-of-type {\n",
              "        vertical-align: middle;\n",
              "    }\n",
              "\n",
              "    .dataframe tbody tr th {\n",
              "        vertical-align: top;\n",
              "    }\n",
              "\n",
              "    .dataframe thead th {\n",
              "        text-align: right;\n",
              "    }\n",
              "</style>\n",
              "<table border=\"1\" class=\"dataframe\">\n",
              "  <thead>\n",
              "    <tr style=\"text-align: right;\">\n",
              "      <th></th>\n",
              "      <th>ibgeID</th>\n",
              "      <th>Municipio</th>\n",
              "      <th>ESPVIDA</th>\n",
              "      <th>E_ANOSESTUDO</th>\n",
              "      <th>T_ANALF18M</th>\n",
              "      <th>RDPC</th>\n",
              "      <th>IDHM</th>\n",
              "    </tr>\n",
              "  </thead>\n",
              "  <tbody>\n",
              "    <tr>\n",
              "      <th>0</th>\n",
              "      <td>1100015</td>\n",
              "      <td>ALTA FLORESTA D'OESTE</td>\n",
              "      <td>70.75</td>\n",
              "      <td>8.67</td>\n",
              "      <td>13.00</td>\n",
              "      <td>476.99</td>\n",
              "      <td>0.641</td>\n",
              "    </tr>\n",
              "    <tr>\n",
              "      <th>1</th>\n",
              "      <td>1100023</td>\n",
              "      <td>ARIQUEMES</td>\n",
              "      <td>73.36</td>\n",
              "      <td>9.18</td>\n",
              "      <td>8.53</td>\n",
              "      <td>689.95</td>\n",
              "      <td>0.702</td>\n",
              "    </tr>\n",
              "    <tr>\n",
              "      <th>2</th>\n",
              "      <td>1100031</td>\n",
              "      <td>CABIXI</td>\n",
              "      <td>70.39</td>\n",
              "      <td>10.09</td>\n",
              "      <td>14.73</td>\n",
              "      <td>457.17</td>\n",
              "      <td>0.650</td>\n",
              "    </tr>\n",
              "    <tr>\n",
              "      <th>3</th>\n",
              "      <td>1100049</td>\n",
              "      <td>CACOAL</td>\n",
              "      <td>74.27</td>\n",
              "      <td>9.74</td>\n",
              "      <td>8.94</td>\n",
              "      <td>738.06</td>\n",
              "      <td>0.718</td>\n",
              "    </tr>\n",
              "    <tr>\n",
              "      <th>4</th>\n",
              "      <td>1100056</td>\n",
              "      <td>CEREJEIRAS</td>\n",
              "      <td>72.94</td>\n",
              "      <td>10.22</td>\n",
              "      <td>11.17</td>\n",
              "      <td>577.18</td>\n",
              "      <td>0.692</td>\n",
              "    </tr>\n",
              "    <tr>\n",
              "      <th>5</th>\n",
              "      <td>1100064</td>\n",
              "      <td>COLORADO DO OESTE</td>\n",
              "      <td>73.81</td>\n",
              "      <td>10.40</td>\n",
              "      <td>13.41</td>\n",
              "      <td>535.41</td>\n",
              "      <td>0.685</td>\n",
              "    </tr>\n",
              "    <tr>\n",
              "      <th>6</th>\n",
              "      <td>1100072</td>\n",
              "      <td>CORUMBIARA</td>\n",
              "      <td>71.45</td>\n",
              "      <td>9.82</td>\n",
              "      <td>13.55</td>\n",
              "      <td>402.15</td>\n",
              "      <td>0.613</td>\n",
              "    </tr>\n",
              "    <tr>\n",
              "      <th>7</th>\n",
              "      <td>1100080</td>\n",
              "      <td>COSTA MARQUES</td>\n",
              "      <td>70.04</td>\n",
              "      <td>9.22</td>\n",
              "      <td>9.39</td>\n",
              "      <td>370.77</td>\n",
              "      <td>0.611</td>\n",
              "    </tr>\n",
              "    <tr>\n",
              "      <th>8</th>\n",
              "      <td>1100098</td>\n",
              "      <td>ESPIGÃO D'OESTE</td>\n",
              "      <td>74.15</td>\n",
              "      <td>9.55</td>\n",
              "      <td>12.18</td>\n",
              "      <td>590.80</td>\n",
              "      <td>0.672</td>\n",
              "    </tr>\n",
              "    <tr>\n",
              "      <th>9</th>\n",
              "      <td>1100106</td>\n",
              "      <td>GUAJARÁ-MIRIM</td>\n",
              "      <td>74.39</td>\n",
              "      <td>8.17</td>\n",
              "      <td>8.70</td>\n",
              "      <td>494.69</td>\n",
              "      <td>0.657</td>\n",
              "    </tr>\n",
              "  </tbody>\n",
              "</table>\n",
              "</div>"
            ],
            "text/plain": [
              "    ibgeID              Municipio  ESPVIDA  ...  T_ANALF18M    RDPC   IDHM\n",
              "0  1100015  ALTA FLORESTA D'OESTE    70.75  ...       13.00  476.99  0.641\n",
              "1  1100023              ARIQUEMES    73.36  ...        8.53  689.95  0.702\n",
              "2  1100031                 CABIXI    70.39  ...       14.73  457.17  0.650\n",
              "3  1100049                 CACOAL    74.27  ...        8.94  738.06  0.718\n",
              "4  1100056             CEREJEIRAS    72.94  ...       11.17  577.18  0.692\n",
              "5  1100064      COLORADO DO OESTE    73.81  ...       13.41  535.41  0.685\n",
              "6  1100072             CORUMBIARA    71.45  ...       13.55  402.15  0.613\n",
              "7  1100080          COSTA MARQUES    70.04  ...        9.39  370.77  0.611\n",
              "8  1100098        ESPIGÃO D'OESTE    74.15  ...       12.18  590.80  0.672\n",
              "9  1100106          GUAJARÁ-MIRIM    74.39  ...        8.70  494.69  0.657\n",
              "\n",
              "[10 rows x 7 columns]"
            ]
          },
          "metadata": {},
          "execution_count": 11
        }
      ]
    },
    {
      "cell_type": "markdown",
      "metadata": {
        "id": "TnC06e_uL_cy"
      },
      "source": [
        "## 1 – Quantas cidades existem em cada dataframe? (dados_municipios_gerais e dados_municipios_covid)?\n"
      ]
    },
    {
      "cell_type": "markdown",
      "metadata": {
        "id": "iwCXYVlcYzFo"
      },
      "source": [
        "### dados_brasil\n"
      ]
    },
    {
      "cell_type": "code",
      "metadata": {
        "id": "pAzkzB7ViLQz",
        "colab": {
          "base_uri": "https://localhost:8080/"
        },
        "outputId": "c18f17e1-38d7-41f7-bd04-c7764baf1206"
      },
      "source": [
        "# dados_brasil_cidades = dados_brasil.drop_duplicates(subset='city', keep='first')\n",
        "# dados_brasil_cidades.value_counts('city').sum()\n",
        "\n",
        "len(dados_brasil['city'].unique())"
      ],
      "execution_count": null,
      "outputs": [
        {
          "output_type": "execute_result",
          "data": {
            "text/plain": [
              "5596"
            ]
          },
          "metadata": {},
          "execution_count": 12
        }
      ]
    },
    {
      "cell_type": "code",
      "metadata": {
        "colab": {
          "base_uri": "https://localhost:8080/",
          "height": 422
        },
        "id": "VmEU1CqiZPGx",
        "outputId": "3545674a-9d09-4366-84a6-5d59f9150222"
      },
      "source": [
        "dados_brasil.groupby('city').agg(sum_total_cases = pd.NamedAgg('totalCases', 'sum'),\n",
        "                                 sum_death = pd.NamedAgg('deaths','sum'))\\\n",
        "                                 .sort_values('sum_total_cases').reset_index()"
      ],
      "execution_count": null,
      "outputs": [
        {
          "output_type": "execute_result",
          "data": {
            "text/html": [
              "<div>\n",
              "<style scoped>\n",
              "    .dataframe tbody tr th:only-of-type {\n",
              "        vertical-align: middle;\n",
              "    }\n",
              "\n",
              "    .dataframe tbody tr th {\n",
              "        vertical-align: top;\n",
              "    }\n",
              "\n",
              "    .dataframe thead th {\n",
              "        text-align: right;\n",
              "    }\n",
              "</style>\n",
              "<table border=\"1\" class=\"dataframe\">\n",
              "  <thead>\n",
              "    <tr style=\"text-align: right;\">\n",
              "      <th></th>\n",
              "      <th>city</th>\n",
              "      <th>sum_total_cases</th>\n",
              "      <th>sum_death</th>\n",
              "    </tr>\n",
              "  </thead>\n",
              "  <tbody>\n",
              "    <tr>\n",
              "      <th>0</th>\n",
              "      <td>CASO SEM LOCALIZAÇÃO DEFINIDA/AC</td>\n",
              "      <td>0</td>\n",
              "      <td>0</td>\n",
              "    </tr>\n",
              "    <tr>\n",
              "      <th>1</th>\n",
              "      <td>CASO SEM LOCALIZAÇÃO DEFINIDA/SC</td>\n",
              "      <td>0</td>\n",
              "      <td>0</td>\n",
              "    </tr>\n",
              "    <tr>\n",
              "      <th>2</th>\n",
              "      <td>CASO SEM LOCALIZAÇÃO DEFINIDA/TO</td>\n",
              "      <td>0</td>\n",
              "      <td>0</td>\n",
              "    </tr>\n",
              "    <tr>\n",
              "      <th>3</th>\n",
              "      <td>CASO SEM LOCALIZAÇÃO DEFINIDA/RS</td>\n",
              "      <td>0</td>\n",
              "      <td>0</td>\n",
              "    </tr>\n",
              "    <tr>\n",
              "      <th>4</th>\n",
              "      <td>CASO SEM LOCALIZAÇÃO DEFINIDA/MA</td>\n",
              "      <td>0</td>\n",
              "      <td>0</td>\n",
              "    </tr>\n",
              "    <tr>\n",
              "      <th>...</th>\n",
              "      <td>...</td>\n",
              "      <td>...</td>\n",
              "      <td>...</td>\n",
              "    </tr>\n",
              "    <tr>\n",
              "      <th>5591</th>\n",
              "      <td>Fortaleza/CE</td>\n",
              "      <td>255311</td>\n",
              "      <td>9649</td>\n",
              "    </tr>\n",
              "    <tr>\n",
              "      <th>5592</th>\n",
              "      <td>Belo Horizonte/MG</td>\n",
              "      <td>270041</td>\n",
              "      <td>6465</td>\n",
              "    </tr>\n",
              "    <tr>\n",
              "      <th>5593</th>\n",
              "      <td>Rio de Janeiro/RJ</td>\n",
              "      <td>443315</td>\n",
              "      <td>31799</td>\n",
              "    </tr>\n",
              "    <tr>\n",
              "      <th>5594</th>\n",
              "      <td>Brasília/DF</td>\n",
              "      <td>467693</td>\n",
              "      <td>9993</td>\n",
              "    </tr>\n",
              "    <tr>\n",
              "      <th>5595</th>\n",
              "      <td>São Paulo/SP</td>\n",
              "      <td>937570</td>\n",
              "      <td>36997</td>\n",
              "    </tr>\n",
              "  </tbody>\n",
              "</table>\n",
              "<p>5596 rows × 3 columns</p>\n",
              "</div>"
            ],
            "text/plain": [
              "                                  city  sum_total_cases  sum_death\n",
              "0     CASO SEM LOCALIZAÇÃO DEFINIDA/AC                0          0\n",
              "1     CASO SEM LOCALIZAÇÃO DEFINIDA/SC                0          0\n",
              "2     CASO SEM LOCALIZAÇÃO DEFINIDA/TO                0          0\n",
              "3     CASO SEM LOCALIZAÇÃO DEFINIDA/RS                0          0\n",
              "4     CASO SEM LOCALIZAÇÃO DEFINIDA/MA                0          0\n",
              "...                                ...              ...        ...\n",
              "5591                      Fortaleza/CE           255311       9649\n",
              "5592                 Belo Horizonte/MG           270041       6465\n",
              "5593                 Rio de Janeiro/RJ           443315      31799\n",
              "5594                       Brasília/DF           467693       9993\n",
              "5595                      São Paulo/SP           937570      36997\n",
              "\n",
              "[5596 rows x 3 columns]"
            ]
          },
          "metadata": {},
          "execution_count": 13
        }
      ]
    },
    {
      "cell_type": "code",
      "metadata": {
        "colab": {
          "base_uri": "https://localhost:8080/",
          "height": 422
        },
        "id": "3P6HhBafZPSz",
        "outputId": "8c34e7b2-a39b-4b47-ec1d-f39c53ee29f6"
      },
      "source": [
        "dados_brasil_without_semlocalizacaodefinida = dados_brasil[dados_brasil['city'].str.contains(\"CASO SEM LOCALIZAÇÃO DEFINIDA/\") == False]\n",
        "dados_brasil_without_semlocalizacaodefinida"
      ],
      "execution_count": null,
      "outputs": [
        {
          "output_type": "execute_result",
          "data": {
            "text/html": [
              "<div>\n",
              "<style scoped>\n",
              "    .dataframe tbody tr th:only-of-type {\n",
              "        vertical-align: middle;\n",
              "    }\n",
              "\n",
              "    .dataframe tbody tr th {\n",
              "        vertical-align: top;\n",
              "    }\n",
              "\n",
              "    .dataframe thead th {\n",
              "        text-align: right;\n",
              "    }\n",
              "</style>\n",
              "<table border=\"1\" class=\"dataframe\">\n",
              "  <thead>\n",
              "    <tr style=\"text-align: right;\">\n",
              "      <th></th>\n",
              "      <th>ibgeID</th>\n",
              "      <th>date</th>\n",
              "      <th>state</th>\n",
              "      <th>city</th>\n",
              "      <th>totalCases</th>\n",
              "      <th>deaths</th>\n",
              "    </tr>\n",
              "  </thead>\n",
              "  <tbody>\n",
              "    <tr>\n",
              "      <th>0</th>\n",
              "      <td>5200050</td>\n",
              "      <td>2021-08-27</td>\n",
              "      <td>GO</td>\n",
              "      <td>Abadia de Goiás/GO</td>\n",
              "      <td>1739</td>\n",
              "      <td>37</td>\n",
              "    </tr>\n",
              "    <tr>\n",
              "      <th>1</th>\n",
              "      <td>3100104</td>\n",
              "      <td>2021-08-27</td>\n",
              "      <td>MG</td>\n",
              "      <td>Abadia dos Dourados/MG</td>\n",
              "      <td>555</td>\n",
              "      <td>17</td>\n",
              "    </tr>\n",
              "    <tr>\n",
              "      <th>2</th>\n",
              "      <td>5200100</td>\n",
              "      <td>2021-08-27</td>\n",
              "      <td>GO</td>\n",
              "      <td>Abadiânia/GO</td>\n",
              "      <td>498</td>\n",
              "      <td>42</td>\n",
              "    </tr>\n",
              "    <tr>\n",
              "      <th>3</th>\n",
              "      <td>1500107</td>\n",
              "      <td>2021-08-27</td>\n",
              "      <td>PA</td>\n",
              "      <td>Abaetetuba/PA</td>\n",
              "      <td>9257</td>\n",
              "      <td>224</td>\n",
              "    </tr>\n",
              "    <tr>\n",
              "      <th>4</th>\n",
              "      <td>3100203</td>\n",
              "      <td>2021-08-27</td>\n",
              "      <td>MG</td>\n",
              "      <td>Abaeté/MG</td>\n",
              "      <td>1587</td>\n",
              "      <td>39</td>\n",
              "    </tr>\n",
              "    <tr>\n",
              "      <th>...</th>\n",
              "      <td>...</td>\n",
              "      <td>...</td>\n",
              "      <td>...</td>\n",
              "      <td>...</td>\n",
              "      <td>...</td>\n",
              "      <td>...</td>\n",
              "    </tr>\n",
              "    <tr>\n",
              "      <th>5591</th>\n",
              "      <td>4301552</td>\n",
              "      <td>2021-08-27</td>\n",
              "      <td>RS</td>\n",
              "      <td>Áurea/RS</td>\n",
              "      <td>329</td>\n",
              "      <td>6</td>\n",
              "    </tr>\n",
              "    <tr>\n",
              "      <th>5592</th>\n",
              "      <td>4101150</td>\n",
              "      <td>2021-08-27</td>\n",
              "      <td>PR</td>\n",
              "      <td>Ângulo/PR</td>\n",
              "      <td>380</td>\n",
              "      <td>7</td>\n",
              "    </tr>\n",
              "    <tr>\n",
              "      <th>5593</th>\n",
              "      <td>2900504</td>\n",
              "      <td>2021-08-27</td>\n",
              "      <td>BA</td>\n",
              "      <td>Érico Cardoso/BA</td>\n",
              "      <td>327</td>\n",
              "      <td>4</td>\n",
              "    </tr>\n",
              "    <tr>\n",
              "      <th>5594</th>\n",
              "      <td>1505106</td>\n",
              "      <td>2021-08-27</td>\n",
              "      <td>PA</td>\n",
              "      <td>Óbidos/PA</td>\n",
              "      <td>6622</td>\n",
              "      <td>134</td>\n",
              "    </tr>\n",
              "    <tr>\n",
              "      <th>5595</th>\n",
              "      <td>3533809</td>\n",
              "      <td>2021-08-27</td>\n",
              "      <td>SP</td>\n",
              "      <td>Óleo/SP</td>\n",
              "      <td>147</td>\n",
              "      <td>4</td>\n",
              "    </tr>\n",
              "  </tbody>\n",
              "</table>\n",
              "<p>5570 rows × 6 columns</p>\n",
              "</div>"
            ],
            "text/plain": [
              "       ibgeID        date state                    city  totalCases  deaths\n",
              "0     5200050  2021-08-27    GO      Abadia de Goiás/GO        1739      37\n",
              "1     3100104  2021-08-27    MG  Abadia dos Dourados/MG         555      17\n",
              "2     5200100  2021-08-27    GO            Abadiânia/GO         498      42\n",
              "3     1500107  2021-08-27    PA           Abaetetuba/PA        9257     224\n",
              "4     3100203  2021-08-27    MG               Abaeté/MG        1587      39\n",
              "...       ...         ...   ...                     ...         ...     ...\n",
              "5591  4301552  2021-08-27    RS                Áurea/RS         329       6\n",
              "5592  4101150  2021-08-27    PR               Ângulo/PR         380       7\n",
              "5593  2900504  2021-08-27    BA        Érico Cardoso/BA         327       4\n",
              "5594  1505106  2021-08-27    PA               Óbidos/PA        6622     134\n",
              "5595  3533809  2021-08-27    SP                 Óleo/SP         147       4\n",
              "\n",
              "[5570 rows x 6 columns]"
            ]
          },
          "metadata": {},
          "execution_count": 14
        }
      ]
    },
    {
      "cell_type": "code",
      "metadata": {
        "colab": {
          "base_uri": "https://localhost:8080/"
        },
        "id": "zQ6yz5N0ZPV3",
        "outputId": "939c1e43-bf70-4fee-c88c-6aecc3ebe2ca"
      },
      "source": [
        "len(dados_brasil_without_semlocalizacaodefinida)"
      ],
      "execution_count": null,
      "outputs": [
        {
          "output_type": "execute_result",
          "data": {
            "text/plain": [
              "5570"
            ]
          },
          "metadata": {},
          "execution_count": 15
        }
      ]
    },
    {
      "cell_type": "markdown",
      "metadata": {
        "id": "gp50NlJHaQhf"
      },
      "source": [
        "### dados_censo"
      ]
    },
    {
      "cell_type": "code",
      "metadata": {
        "colab": {
          "base_uri": "https://localhost:8080/"
        },
        "id": "tb8Ab_J7ZPZQ",
        "outputId": "b3c96662-9dc9-48ec-ff11-597b87eb1244"
      },
      "source": [
        "# dados_censo_cidades = dados_censo.drop_duplicates(subset='Municipio', keep='first')\n",
        "# dados_censo_cidades.value_counts('Municipio').sum()\n",
        "\n",
        "len(dados_censo['Municipio'].unique())"
      ],
      "execution_count": null,
      "outputs": [
        {
          "output_type": "execute_result",
          "data": {
            "text/plain": [
              "5330"
            ]
          },
          "metadata": {},
          "execution_count": 16
        }
      ]
    },
    {
      "cell_type": "code",
      "metadata": {
        "id": "W8v4OPnBZPci"
      },
      "source": [
        "dados_censo_agrupado = dados_censo.groupby('ibgeID').agg(ESPVIDA = pd.NamedAgg('ESPVIDA', 'sum'),\n",
        "                                  E_ANOSESTUDO = pd.NamedAgg('E_ANOSESTUDO', 'sum'),)\\\n",
        "                                  .sort_values('E_ANOSESTUDO').reset_index()"
      ],
      "execution_count": null,
      "outputs": []
    },
    {
      "cell_type": "code",
      "metadata": {
        "colab": {
          "base_uri": "https://localhost:8080/"
        },
        "id": "SUuPbQ3BZPfO",
        "outputId": "ba60d748-ece0-45f6-8bfd-b922ae0b4098"
      },
      "source": [
        "len(dados_censo_agrupado)"
      ],
      "execution_count": null,
      "outputs": [
        {
          "output_type": "execute_result",
          "data": {
            "text/plain": [
              "5565"
            ]
          },
          "metadata": {},
          "execution_count": 18
        }
      ]
    },
    {
      "cell_type": "markdown",
      "metadata": {
        "id": "2l3NGkTmNrjt"
      },
      "source": [
        "## 2 – Como realizar o join desses dataframes? (realizar o join!! Dica, usar a função pd.merge). Indicar quais cidades não houve o join e retirar das análises"
      ]
    },
    {
      "cell_type": "code",
      "metadata": {
        "colab": {
          "base_uri": "https://localhost:8080/",
          "height": 1000
        },
        "id": "MHYoaFoRMPwK",
        "outputId": "17ea57f3-8e55-4d34-d7f7-2ae63a01d855"
      },
      "source": [
        "dados_completos = pd.merge(dados_censo, dados_brasil_without_semlocalizacaodefinida, how = 'outer', on = 'ibgeID')\n",
        "dados_completos.tail(35)"
      ],
      "execution_count": null,
      "outputs": [
        {
          "output_type": "execute_result",
          "data": {
            "text/html": [
              "<div>\n",
              "<style scoped>\n",
              "    .dataframe tbody tr th:only-of-type {\n",
              "        vertical-align: middle;\n",
              "    }\n",
              "\n",
              "    .dataframe tbody tr th {\n",
              "        vertical-align: top;\n",
              "    }\n",
              "\n",
              "    .dataframe thead th {\n",
              "        text-align: right;\n",
              "    }\n",
              "</style>\n",
              "<table border=\"1\" class=\"dataframe\">\n",
              "  <thead>\n",
              "    <tr style=\"text-align: right;\">\n",
              "      <th></th>\n",
              "      <th>ibgeID</th>\n",
              "      <th>Municipio</th>\n",
              "      <th>ESPVIDA</th>\n",
              "      <th>E_ANOSESTUDO</th>\n",
              "      <th>T_ANALF18M</th>\n",
              "      <th>RDPC</th>\n",
              "      <th>IDHM</th>\n",
              "      <th>date</th>\n",
              "      <th>state</th>\n",
              "      <th>city</th>\n",
              "      <th>totalCases</th>\n",
              "      <th>deaths</th>\n",
              "    </tr>\n",
              "  </thead>\n",
              "  <tbody>\n",
              "    <tr>\n",
              "      <th>5535</th>\n",
              "      <td>5220108</td>\n",
              "      <td>SÃO LUÍS DE MONTES BELOS</td>\n",
              "      <td>73.55</td>\n",
              "      <td>10.04</td>\n",
              "      <td>10.35</td>\n",
              "      <td>712.23</td>\n",
              "      <td>0.731</td>\n",
              "      <td>2021-08-27</td>\n",
              "      <td>GO</td>\n",
              "      <td>São Luís de Montes Belos/GO</td>\n",
              "      <td>5079</td>\n",
              "      <td>139</td>\n",
              "    </tr>\n",
              "    <tr>\n",
              "      <th>5536</th>\n",
              "      <td>5220157</td>\n",
              "      <td>SÃO LUÍZ DO NORTE</td>\n",
              "      <td>73.04</td>\n",
              "      <td>9.40</td>\n",
              "      <td>17.51</td>\n",
              "      <td>435.99</td>\n",
              "      <td>0.669</td>\n",
              "      <td>2021-08-27</td>\n",
              "      <td>GO</td>\n",
              "      <td>São Luiz do Norte/GO</td>\n",
              "      <td>619</td>\n",
              "      <td>18</td>\n",
              "    </tr>\n",
              "    <tr>\n",
              "      <th>5537</th>\n",
              "      <td>5220207</td>\n",
              "      <td>SÃO MIGUEL DO ARAGUAIA</td>\n",
              "      <td>74.10</td>\n",
              "      <td>8.36</td>\n",
              "      <td>13.17</td>\n",
              "      <td>507.02</td>\n",
              "      <td>0.664</td>\n",
              "      <td>2021-08-27</td>\n",
              "      <td>GO</td>\n",
              "      <td>São Miguel do Araguaia/GO</td>\n",
              "      <td>3151</td>\n",
              "      <td>72</td>\n",
              "    </tr>\n",
              "    <tr>\n",
              "      <th>5538</th>\n",
              "      <td>5220264</td>\n",
              "      <td>SÃO MIGUEL DO PASSA QUATRO</td>\n",
              "      <td>73.09</td>\n",
              "      <td>9.48</td>\n",
              "      <td>13.19</td>\n",
              "      <td>553.79</td>\n",
              "      <td>0.697</td>\n",
              "      <td>2021-08-27</td>\n",
              "      <td>GO</td>\n",
              "      <td>São Miguel do Passa Quatro/GO</td>\n",
              "      <td>372</td>\n",
              "      <td>7</td>\n",
              "    </tr>\n",
              "    <tr>\n",
              "      <th>5539</th>\n",
              "      <td>5220280</td>\n",
              "      <td>SÃO PATRÍCIO</td>\n",
              "      <td>74.99</td>\n",
              "      <td>10.33</td>\n",
              "      <td>12.83</td>\n",
              "      <td>509.66</td>\n",
              "      <td>0.693</td>\n",
              "      <td>2021-08-27</td>\n",
              "      <td>GO</td>\n",
              "      <td>São Patrício/GO</td>\n",
              "      <td>325</td>\n",
              "      <td>9</td>\n",
              "    </tr>\n",
              "    <tr>\n",
              "      <th>5540</th>\n",
              "      <td>5220405</td>\n",
              "      <td>SÃO SIMÃO</td>\n",
              "      <td>74.51</td>\n",
              "      <td>9.74</td>\n",
              "      <td>12.45</td>\n",
              "      <td>883.78</td>\n",
              "      <td>0.720</td>\n",
              "      <td>2021-08-27</td>\n",
              "      <td>GO</td>\n",
              "      <td>São Simão/GO</td>\n",
              "      <td>1657</td>\n",
              "      <td>64</td>\n",
              "    </tr>\n",
              "    <tr>\n",
              "      <th>5541</th>\n",
              "      <td>5220454</td>\n",
              "      <td>SENADOR CANEDO</td>\n",
              "      <td>74.59</td>\n",
              "      <td>9.51</td>\n",
              "      <td>7.00</td>\n",
              "      <td>537.58</td>\n",
              "      <td>0.701</td>\n",
              "      <td>2021-08-27</td>\n",
              "      <td>GO</td>\n",
              "      <td>Senador Canedo/GO</td>\n",
              "      <td>21791</td>\n",
              "      <td>370</td>\n",
              "    </tr>\n",
              "    <tr>\n",
              "      <th>5542</th>\n",
              "      <td>5220504</td>\n",
              "      <td>SERRANÓPOLIS</td>\n",
              "      <td>73.25</td>\n",
              "      <td>9.08</td>\n",
              "      <td>13.34</td>\n",
              "      <td>677.06</td>\n",
              "      <td>0.681</td>\n",
              "      <td>2021-08-27</td>\n",
              "      <td>GO</td>\n",
              "      <td>Serranópolis/GO</td>\n",
              "      <td>1322</td>\n",
              "      <td>12</td>\n",
              "    </tr>\n",
              "    <tr>\n",
              "      <th>5543</th>\n",
              "      <td>5220603</td>\n",
              "      <td>SILVÂNIA</td>\n",
              "      <td>73.83</td>\n",
              "      <td>10.12</td>\n",
              "      <td>9.09</td>\n",
              "      <td>708.82</td>\n",
              "      <td>0.709</td>\n",
              "      <td>2021-08-27</td>\n",
              "      <td>GO</td>\n",
              "      <td>Silvânia/GO</td>\n",
              "      <td>2025</td>\n",
              "      <td>29</td>\n",
              "    </tr>\n",
              "    <tr>\n",
              "      <th>5544</th>\n",
              "      <td>5220686</td>\n",
              "      <td>SIMOLÂNDIA</td>\n",
              "      <td>74.56</td>\n",
              "      <td>10.09</td>\n",
              "      <td>19.25</td>\n",
              "      <td>324.26</td>\n",
              "      <td>0.645</td>\n",
              "      <td>2021-08-27</td>\n",
              "      <td>GO</td>\n",
              "      <td>Simolândia/GO</td>\n",
              "      <td>429</td>\n",
              "      <td>7</td>\n",
              "    </tr>\n",
              "    <tr>\n",
              "      <th>5545</th>\n",
              "      <td>5220702</td>\n",
              "      <td>SÍTIO D'ABADIA</td>\n",
              "      <td>73.09</td>\n",
              "      <td>9.75</td>\n",
              "      <td>26.08</td>\n",
              "      <td>314.05</td>\n",
              "      <td>0.617</td>\n",
              "      <td>2021-08-27</td>\n",
              "      <td>GO</td>\n",
              "      <td>Sítio d'Abadia/GO</td>\n",
              "      <td>39</td>\n",
              "      <td>0</td>\n",
              "    </tr>\n",
              "    <tr>\n",
              "      <th>5546</th>\n",
              "      <td>5221007</td>\n",
              "      <td>TAQUARAL DE GOIÁS</td>\n",
              "      <td>75.74</td>\n",
              "      <td>8.20</td>\n",
              "      <td>12.17</td>\n",
              "      <td>622.79</td>\n",
              "      <td>0.716</td>\n",
              "      <td>2021-08-27</td>\n",
              "      <td>GO</td>\n",
              "      <td>Taquaral de Goiás/GO</td>\n",
              "      <td>285</td>\n",
              "      <td>9</td>\n",
              "    </tr>\n",
              "    <tr>\n",
              "      <th>5547</th>\n",
              "      <td>5221080</td>\n",
              "      <td>TERESINA DE GOIÁS</td>\n",
              "      <td>74.00</td>\n",
              "      <td>9.78</td>\n",
              "      <td>17.62</td>\n",
              "      <td>394.33</td>\n",
              "      <td>0.661</td>\n",
              "      <td>2021-08-27</td>\n",
              "      <td>GO</td>\n",
              "      <td>Teresina de Goiás/GO</td>\n",
              "      <td>216</td>\n",
              "      <td>1</td>\n",
              "    </tr>\n",
              "    <tr>\n",
              "      <th>5548</th>\n",
              "      <td>5221197</td>\n",
              "      <td>TEREZÓPOLIS DE GOIÁS</td>\n",
              "      <td>72.94</td>\n",
              "      <td>8.82</td>\n",
              "      <td>13.43</td>\n",
              "      <td>472.43</td>\n",
              "      <td>0.685</td>\n",
              "      <td>2021-08-27</td>\n",
              "      <td>GO</td>\n",
              "      <td>Terezópolis de Goiás/GO</td>\n",
              "      <td>1160</td>\n",
              "      <td>27</td>\n",
              "    </tr>\n",
              "    <tr>\n",
              "      <th>5549</th>\n",
              "      <td>5221304</td>\n",
              "      <td>TRÊS RANCHOS</td>\n",
              "      <td>75.94</td>\n",
              "      <td>10.68</td>\n",
              "      <td>6.81</td>\n",
              "      <td>723.26</td>\n",
              "      <td>0.745</td>\n",
              "      <td>2021-08-27</td>\n",
              "      <td>GO</td>\n",
              "      <td>Três Ranchos/GO</td>\n",
              "      <td>245</td>\n",
              "      <td>12</td>\n",
              "    </tr>\n",
              "    <tr>\n",
              "      <th>5550</th>\n",
              "      <td>5221403</td>\n",
              "      <td>TRINDADE</td>\n",
              "      <td>74.30</td>\n",
              "      <td>9.44</td>\n",
              "      <td>8.38</td>\n",
              "      <td>558.61</td>\n",
              "      <td>0.699</td>\n",
              "      <td>2021-08-27</td>\n",
              "      <td>GO</td>\n",
              "      <td>Trindade/GO</td>\n",
              "      <td>13718</td>\n",
              "      <td>464</td>\n",
              "    </tr>\n",
              "    <tr>\n",
              "      <th>5551</th>\n",
              "      <td>5221452</td>\n",
              "      <td>TROMBAS</td>\n",
              "      <td>73.71</td>\n",
              "      <td>8.60</td>\n",
              "      <td>19.31</td>\n",
              "      <td>398.01</td>\n",
              "      <td>0.653</td>\n",
              "      <td>2021-08-27</td>\n",
              "      <td>GO</td>\n",
              "      <td>Trombas/GO</td>\n",
              "      <td>446</td>\n",
              "      <td>8</td>\n",
              "    </tr>\n",
              "    <tr>\n",
              "      <th>5552</th>\n",
              "      <td>5221502</td>\n",
              "      <td>TURVÂNIA</td>\n",
              "      <td>74.17</td>\n",
              "      <td>10.56</td>\n",
              "      <td>13.04</td>\n",
              "      <td>545.83</td>\n",
              "      <td>0.697</td>\n",
              "      <td>2021-08-27</td>\n",
              "      <td>GO</td>\n",
              "      <td>Turvânia/GO</td>\n",
              "      <td>690</td>\n",
              "      <td>25</td>\n",
              "    </tr>\n",
              "    <tr>\n",
              "      <th>5553</th>\n",
              "      <td>5221551</td>\n",
              "      <td>TURVELÂNDIA</td>\n",
              "      <td>73.76</td>\n",
              "      <td>10.25</td>\n",
              "      <td>18.42</td>\n",
              "      <td>519.75</td>\n",
              "      <td>0.691</td>\n",
              "      <td>2021-08-27</td>\n",
              "      <td>GO</td>\n",
              "      <td>Turvelândia/GO</td>\n",
              "      <td>904</td>\n",
              "      <td>16</td>\n",
              "    </tr>\n",
              "    <tr>\n",
              "      <th>5554</th>\n",
              "      <td>5221577</td>\n",
              "      <td>UIRAPURU</td>\n",
              "      <td>74.29</td>\n",
              "      <td>9.73</td>\n",
              "      <td>19.34</td>\n",
              "      <td>409.38</td>\n",
              "      <td>0.670</td>\n",
              "      <td>2021-08-27</td>\n",
              "      <td>GO</td>\n",
              "      <td>Uirapuru/GO</td>\n",
              "      <td>239</td>\n",
              "      <td>9</td>\n",
              "    </tr>\n",
              "    <tr>\n",
              "      <th>5555</th>\n",
              "      <td>5221601</td>\n",
              "      <td>URUAÇU</td>\n",
              "      <td>76.61</td>\n",
              "      <td>10.30</td>\n",
              "      <td>11.82</td>\n",
              "      <td>797.52</td>\n",
              "      <td>0.737</td>\n",
              "      <td>2021-08-27</td>\n",
              "      <td>GO</td>\n",
              "      <td>Uruaçu/GO</td>\n",
              "      <td>5784</td>\n",
              "      <td>141</td>\n",
              "    </tr>\n",
              "    <tr>\n",
              "      <th>5556</th>\n",
              "      <td>5221700</td>\n",
              "      <td>URUANA</td>\n",
              "      <td>74.42</td>\n",
              "      <td>9.99</td>\n",
              "      <td>13.63</td>\n",
              "      <td>500.27</td>\n",
              "      <td>0.703</td>\n",
              "      <td>2021-08-27</td>\n",
              "      <td>GO</td>\n",
              "      <td>Uruana/GO</td>\n",
              "      <td>1736</td>\n",
              "      <td>37</td>\n",
              "    </tr>\n",
              "    <tr>\n",
              "      <th>5557</th>\n",
              "      <td>5221809</td>\n",
              "      <td>URUTAÍ</td>\n",
              "      <td>75.46</td>\n",
              "      <td>11.38</td>\n",
              "      <td>9.15</td>\n",
              "      <td>624.55</td>\n",
              "      <td>0.732</td>\n",
              "      <td>2021-08-27</td>\n",
              "      <td>GO</td>\n",
              "      <td>Urutaí/GO</td>\n",
              "      <td>246</td>\n",
              "      <td>6</td>\n",
              "    </tr>\n",
              "    <tr>\n",
              "      <th>5558</th>\n",
              "      <td>5221858</td>\n",
              "      <td>VALPARAÍSO DE GOIÁS</td>\n",
              "      <td>73.91</td>\n",
              "      <td>9.96</td>\n",
              "      <td>3.84</td>\n",
              "      <td>764.73</td>\n",
              "      <td>0.746</td>\n",
              "      <td>2021-08-27</td>\n",
              "      <td>GO</td>\n",
              "      <td>Valparaíso de Goiás/GO</td>\n",
              "      <td>13547</td>\n",
              "      <td>366</td>\n",
              "    </tr>\n",
              "    <tr>\n",
              "      <th>5559</th>\n",
              "      <td>5221908</td>\n",
              "      <td>VARJÃO</td>\n",
              "      <td>73.76</td>\n",
              "      <td>9.79</td>\n",
              "      <td>16.37</td>\n",
              "      <td>614.80</td>\n",
              "      <td>0.687</td>\n",
              "      <td>2021-08-27</td>\n",
              "      <td>GO</td>\n",
              "      <td>Varjão/GO</td>\n",
              "      <td>577</td>\n",
              "      <td>14</td>\n",
              "    </tr>\n",
              "    <tr>\n",
              "      <th>5560</th>\n",
              "      <td>5222005</td>\n",
              "      <td>VIANÓPOLIS</td>\n",
              "      <td>74.10</td>\n",
              "      <td>10.11</td>\n",
              "      <td>8.52</td>\n",
              "      <td>664.33</td>\n",
              "      <td>0.712</td>\n",
              "      <td>2021-08-27</td>\n",
              "      <td>GO</td>\n",
              "      <td>Vianópolis/GO</td>\n",
              "      <td>961</td>\n",
              "      <td>33</td>\n",
              "    </tr>\n",
              "    <tr>\n",
              "      <th>5561</th>\n",
              "      <td>5222054</td>\n",
              "      <td>VICENTINÓPOLIS</td>\n",
              "      <td>73.25</td>\n",
              "      <td>10.07</td>\n",
              "      <td>13.51</td>\n",
              "      <td>651.07</td>\n",
              "      <td>0.684</td>\n",
              "      <td>2021-08-27</td>\n",
              "      <td>GO</td>\n",
              "      <td>Vicentinópolis/GO</td>\n",
              "      <td>1377</td>\n",
              "      <td>24</td>\n",
              "    </tr>\n",
              "    <tr>\n",
              "      <th>5562</th>\n",
              "      <td>5222203</td>\n",
              "      <td>VILA BOA</td>\n",
              "      <td>74.07</td>\n",
              "      <td>10.49</td>\n",
              "      <td>17.07</td>\n",
              "      <td>376.72</td>\n",
              "      <td>0.647</td>\n",
              "      <td>2021-08-27</td>\n",
              "      <td>GO</td>\n",
              "      <td>Vila Boa/GO</td>\n",
              "      <td>198</td>\n",
              "      <td>4</td>\n",
              "    </tr>\n",
              "    <tr>\n",
              "      <th>5563</th>\n",
              "      <td>5222302</td>\n",
              "      <td>VILA PROPÍCIO</td>\n",
              "      <td>73.09</td>\n",
              "      <td>9.46</td>\n",
              "      <td>20.75</td>\n",
              "      <td>401.84</td>\n",
              "      <td>0.634</td>\n",
              "      <td>2021-08-27</td>\n",
              "      <td>GO</td>\n",
              "      <td>Vila Propício/GO</td>\n",
              "      <td>391</td>\n",
              "      <td>7</td>\n",
              "    </tr>\n",
              "    <tr>\n",
              "      <th>5564</th>\n",
              "      <td>5300108</td>\n",
              "      <td>BRASÍLIA</td>\n",
              "      <td>77.35</td>\n",
              "      <td>9.87</td>\n",
              "      <td>3.66</td>\n",
              "      <td>1715.11</td>\n",
              "      <td>0.824</td>\n",
              "      <td>2021-08-27</td>\n",
              "      <td>DF</td>\n",
              "      <td>Brasília/DF</td>\n",
              "      <td>467693</td>\n",
              "      <td>9993</td>\n",
              "    </tr>\n",
              "    <tr>\n",
              "      <th>5565</th>\n",
              "      <td>4220000</td>\n",
              "      <td>NaN</td>\n",
              "      <td>NaN</td>\n",
              "      <td>NaN</td>\n",
              "      <td>NaN</td>\n",
              "      <td>NaN</td>\n",
              "      <td>NaN</td>\n",
              "      <td>2021-08-27</td>\n",
              "      <td>SC</td>\n",
              "      <td>Balneário Rincão/SC</td>\n",
              "      <td>1473</td>\n",
              "      <td>52</td>\n",
              "    </tr>\n",
              "    <tr>\n",
              "      <th>5566</th>\n",
              "      <td>1504752</td>\n",
              "      <td>NaN</td>\n",
              "      <td>NaN</td>\n",
              "      <td>NaN</td>\n",
              "      <td>NaN</td>\n",
              "      <td>NaN</td>\n",
              "      <td>NaN</td>\n",
              "      <td>2021-08-27</td>\n",
              "      <td>PA</td>\n",
              "      <td>Mojuí dos Campos/PA</td>\n",
              "      <td>1383</td>\n",
              "      <td>33</td>\n",
              "    </tr>\n",
              "    <tr>\n",
              "      <th>5567</th>\n",
              "      <td>5006275</td>\n",
              "      <td>NaN</td>\n",
              "      <td>NaN</td>\n",
              "      <td>NaN</td>\n",
              "      <td>NaN</td>\n",
              "      <td>NaN</td>\n",
              "      <td>NaN</td>\n",
              "      <td>2021-08-27</td>\n",
              "      <td>MS</td>\n",
              "      <td>Paraíso das Águas/MS</td>\n",
              "      <td>559</td>\n",
              "      <td>17</td>\n",
              "    </tr>\n",
              "    <tr>\n",
              "      <th>5568</th>\n",
              "      <td>4212650</td>\n",
              "      <td>NaN</td>\n",
              "      <td>NaN</td>\n",
              "      <td>NaN</td>\n",
              "      <td>NaN</td>\n",
              "      <td>NaN</td>\n",
              "      <td>NaN</td>\n",
              "      <td>2021-08-27</td>\n",
              "      <td>SC</td>\n",
              "      <td>Pescaria Brava/SC</td>\n",
              "      <td>2195</td>\n",
              "      <td>26</td>\n",
              "    </tr>\n",
              "    <tr>\n",
              "      <th>5569</th>\n",
              "      <td>4314548</td>\n",
              "      <td>NaN</td>\n",
              "      <td>NaN</td>\n",
              "      <td>NaN</td>\n",
              "      <td>NaN</td>\n",
              "      <td>NaN</td>\n",
              "      <td>NaN</td>\n",
              "      <td>2021-08-27</td>\n",
              "      <td>RS</td>\n",
              "      <td>Pinto Bandeira/RS</td>\n",
              "      <td>335</td>\n",
              "      <td>5</td>\n",
              "    </tr>\n",
              "  </tbody>\n",
              "</table>\n",
              "</div>"
            ],
            "text/plain": [
              "       ibgeID                   Municipio  ...  totalCases  deaths\n",
              "5535  5220108    SÃO LUÍS DE MONTES BELOS  ...        5079     139\n",
              "5536  5220157           SÃO LUÍZ DO NORTE  ...         619      18\n",
              "5537  5220207      SÃO MIGUEL DO ARAGUAIA  ...        3151      72\n",
              "5538  5220264  SÃO MIGUEL DO PASSA QUATRO  ...         372       7\n",
              "5539  5220280                SÃO PATRÍCIO  ...         325       9\n",
              "5540  5220405                   SÃO SIMÃO  ...        1657      64\n",
              "5541  5220454              SENADOR CANEDO  ...       21791     370\n",
              "5542  5220504                SERRANÓPOLIS  ...        1322      12\n",
              "5543  5220603                    SILVÂNIA  ...        2025      29\n",
              "5544  5220686                  SIMOLÂNDIA  ...         429       7\n",
              "5545  5220702              SÍTIO D'ABADIA  ...          39       0\n",
              "5546  5221007           TAQUARAL DE GOIÁS  ...         285       9\n",
              "5547  5221080           TERESINA DE GOIÁS  ...         216       1\n",
              "5548  5221197        TEREZÓPOLIS DE GOIÁS  ...        1160      27\n",
              "5549  5221304                TRÊS RANCHOS  ...         245      12\n",
              "5550  5221403                    TRINDADE  ...       13718     464\n",
              "5551  5221452                     TROMBAS  ...         446       8\n",
              "5552  5221502                    TURVÂNIA  ...         690      25\n",
              "5553  5221551                 TURVELÂNDIA  ...         904      16\n",
              "5554  5221577                    UIRAPURU  ...         239       9\n",
              "5555  5221601                      URUAÇU  ...        5784     141\n",
              "5556  5221700                      URUANA  ...        1736      37\n",
              "5557  5221809                      URUTAÍ  ...         246       6\n",
              "5558  5221858         VALPARAÍSO DE GOIÁS  ...       13547     366\n",
              "5559  5221908                      VARJÃO  ...         577      14\n",
              "5560  5222005                  VIANÓPOLIS  ...         961      33\n",
              "5561  5222054              VICENTINÓPOLIS  ...        1377      24\n",
              "5562  5222203                    VILA BOA  ...         198       4\n",
              "5563  5222302               VILA PROPÍCIO  ...         391       7\n",
              "5564  5300108                    BRASÍLIA  ...      467693    9993\n",
              "5565  4220000                         NaN  ...        1473      52\n",
              "5566  1504752                         NaN  ...        1383      33\n",
              "5567  5006275                         NaN  ...         559      17\n",
              "5568  4212650                         NaN  ...        2195      26\n",
              "5569  4314548                         NaN  ...         335       5\n",
              "\n",
              "[35 rows x 12 columns]"
            ]
          },
          "metadata": {},
          "execution_count": 19
        }
      ]
    },
    {
      "cell_type": "markdown",
      "metadata": {
        "id": "-0PqB97o_ftZ"
      },
      "source": [
        "### Cidades que não houve o JOIN"
      ]
    },
    {
      "cell_type": "code",
      "metadata": {
        "colab": {
          "base_uri": "https://localhost:8080/",
          "height": 205
        },
        "id": "7i6Vc5Th-V15",
        "outputId": "ac1cc458-21c7-48de-d2c1-86e11423690b"
      },
      "source": [
        "dados_vazios = dados_completos[dados_completos['Municipio'].isnull()]\n",
        "dados_vazios"
      ],
      "execution_count": null,
      "outputs": [
        {
          "output_type": "execute_result",
          "data": {
            "text/html": [
              "<div>\n",
              "<style scoped>\n",
              "    .dataframe tbody tr th:only-of-type {\n",
              "        vertical-align: middle;\n",
              "    }\n",
              "\n",
              "    .dataframe tbody tr th {\n",
              "        vertical-align: top;\n",
              "    }\n",
              "\n",
              "    .dataframe thead th {\n",
              "        text-align: right;\n",
              "    }\n",
              "</style>\n",
              "<table border=\"1\" class=\"dataframe\">\n",
              "  <thead>\n",
              "    <tr style=\"text-align: right;\">\n",
              "      <th></th>\n",
              "      <th>ibgeID</th>\n",
              "      <th>Municipio</th>\n",
              "      <th>ESPVIDA</th>\n",
              "      <th>E_ANOSESTUDO</th>\n",
              "      <th>T_ANALF18M</th>\n",
              "      <th>RDPC</th>\n",
              "      <th>IDHM</th>\n",
              "      <th>date</th>\n",
              "      <th>state</th>\n",
              "      <th>city</th>\n",
              "      <th>totalCases</th>\n",
              "      <th>deaths</th>\n",
              "    </tr>\n",
              "  </thead>\n",
              "  <tbody>\n",
              "    <tr>\n",
              "      <th>5565</th>\n",
              "      <td>4220000</td>\n",
              "      <td>NaN</td>\n",
              "      <td>NaN</td>\n",
              "      <td>NaN</td>\n",
              "      <td>NaN</td>\n",
              "      <td>NaN</td>\n",
              "      <td>NaN</td>\n",
              "      <td>2021-08-27</td>\n",
              "      <td>SC</td>\n",
              "      <td>Balneário Rincão/SC</td>\n",
              "      <td>1473</td>\n",
              "      <td>52</td>\n",
              "    </tr>\n",
              "    <tr>\n",
              "      <th>5566</th>\n",
              "      <td>1504752</td>\n",
              "      <td>NaN</td>\n",
              "      <td>NaN</td>\n",
              "      <td>NaN</td>\n",
              "      <td>NaN</td>\n",
              "      <td>NaN</td>\n",
              "      <td>NaN</td>\n",
              "      <td>2021-08-27</td>\n",
              "      <td>PA</td>\n",
              "      <td>Mojuí dos Campos/PA</td>\n",
              "      <td>1383</td>\n",
              "      <td>33</td>\n",
              "    </tr>\n",
              "    <tr>\n",
              "      <th>5567</th>\n",
              "      <td>5006275</td>\n",
              "      <td>NaN</td>\n",
              "      <td>NaN</td>\n",
              "      <td>NaN</td>\n",
              "      <td>NaN</td>\n",
              "      <td>NaN</td>\n",
              "      <td>NaN</td>\n",
              "      <td>2021-08-27</td>\n",
              "      <td>MS</td>\n",
              "      <td>Paraíso das Águas/MS</td>\n",
              "      <td>559</td>\n",
              "      <td>17</td>\n",
              "    </tr>\n",
              "    <tr>\n",
              "      <th>5568</th>\n",
              "      <td>4212650</td>\n",
              "      <td>NaN</td>\n",
              "      <td>NaN</td>\n",
              "      <td>NaN</td>\n",
              "      <td>NaN</td>\n",
              "      <td>NaN</td>\n",
              "      <td>NaN</td>\n",
              "      <td>2021-08-27</td>\n",
              "      <td>SC</td>\n",
              "      <td>Pescaria Brava/SC</td>\n",
              "      <td>2195</td>\n",
              "      <td>26</td>\n",
              "    </tr>\n",
              "    <tr>\n",
              "      <th>5569</th>\n",
              "      <td>4314548</td>\n",
              "      <td>NaN</td>\n",
              "      <td>NaN</td>\n",
              "      <td>NaN</td>\n",
              "      <td>NaN</td>\n",
              "      <td>NaN</td>\n",
              "      <td>NaN</td>\n",
              "      <td>2021-08-27</td>\n",
              "      <td>RS</td>\n",
              "      <td>Pinto Bandeira/RS</td>\n",
              "      <td>335</td>\n",
              "      <td>5</td>\n",
              "    </tr>\n",
              "  </tbody>\n",
              "</table>\n",
              "</div>"
            ],
            "text/plain": [
              "       ibgeID Municipio  ESPVIDA  ...                  city  totalCases  deaths\n",
              "5565  4220000       NaN      NaN  ...   Balneário Rincão/SC        1473      52\n",
              "5566  1504752       NaN      NaN  ...   Mojuí dos Campos/PA        1383      33\n",
              "5567  5006275       NaN      NaN  ...  Paraíso das Águas/MS         559      17\n",
              "5568  4212650       NaN      NaN  ...     Pescaria Brava/SC        2195      26\n",
              "5569  4314548       NaN      NaN  ...     Pinto Bandeira/RS         335       5\n",
              "\n",
              "[5 rows x 12 columns]"
            ]
          },
          "metadata": {},
          "execution_count": 20
        }
      ]
    },
    {
      "cell_type": "markdown",
      "metadata": {
        "id": "GrsjnNGmBGQn"
      },
      "source": [
        "* Balneário Rincão\t\n",
        "* Mojuí dos Campos\n",
        "* Paraíso das Águas\n",
        "* Pescaria Brava\t\n",
        "* Pinto Bandeira"
      ]
    },
    {
      "cell_type": "code",
      "metadata": {
        "colab": {
          "base_uri": "https://localhost:8080/",
          "height": 422
        },
        "id": "M0XG3nyaWRy6",
        "outputId": "25444b52-eb28-451a-f885-d419f4585466"
      },
      "source": [
        "dados_completos = dados_completos.dropna()\n",
        "dados_completos"
      ],
      "execution_count": null,
      "outputs": [
        {
          "output_type": "execute_result",
          "data": {
            "text/html": [
              "<div>\n",
              "<style scoped>\n",
              "    .dataframe tbody tr th:only-of-type {\n",
              "        vertical-align: middle;\n",
              "    }\n",
              "\n",
              "    .dataframe tbody tr th {\n",
              "        vertical-align: top;\n",
              "    }\n",
              "\n",
              "    .dataframe thead th {\n",
              "        text-align: right;\n",
              "    }\n",
              "</style>\n",
              "<table border=\"1\" class=\"dataframe\">\n",
              "  <thead>\n",
              "    <tr style=\"text-align: right;\">\n",
              "      <th></th>\n",
              "      <th>ibgeID</th>\n",
              "      <th>Municipio</th>\n",
              "      <th>ESPVIDA</th>\n",
              "      <th>E_ANOSESTUDO</th>\n",
              "      <th>T_ANALF18M</th>\n",
              "      <th>RDPC</th>\n",
              "      <th>IDHM</th>\n",
              "      <th>date</th>\n",
              "      <th>state</th>\n",
              "      <th>city</th>\n",
              "      <th>totalCases</th>\n",
              "      <th>deaths</th>\n",
              "    </tr>\n",
              "  </thead>\n",
              "  <tbody>\n",
              "    <tr>\n",
              "      <th>0</th>\n",
              "      <td>1100015</td>\n",
              "      <td>ALTA FLORESTA D'OESTE</td>\n",
              "      <td>70.75</td>\n",
              "      <td>8.67</td>\n",
              "      <td>13.00</td>\n",
              "      <td>476.99</td>\n",
              "      <td>0.641</td>\n",
              "      <td>2021-08-27</td>\n",
              "      <td>RO</td>\n",
              "      <td>Alta Floresta D'Oeste/RO</td>\n",
              "      <td>4052</td>\n",
              "      <td>65</td>\n",
              "    </tr>\n",
              "    <tr>\n",
              "      <th>1</th>\n",
              "      <td>1100023</td>\n",
              "      <td>ARIQUEMES</td>\n",
              "      <td>73.36</td>\n",
              "      <td>9.18</td>\n",
              "      <td>8.53</td>\n",
              "      <td>689.95</td>\n",
              "      <td>0.702</td>\n",
              "      <td>2021-08-27</td>\n",
              "      <td>RO</td>\n",
              "      <td>Ariquemes/RO</td>\n",
              "      <td>22496</td>\n",
              "      <td>494</td>\n",
              "    </tr>\n",
              "    <tr>\n",
              "      <th>2</th>\n",
              "      <td>1100031</td>\n",
              "      <td>CABIXI</td>\n",
              "      <td>70.39</td>\n",
              "      <td>10.09</td>\n",
              "      <td>14.73</td>\n",
              "      <td>457.17</td>\n",
              "      <td>0.650</td>\n",
              "      <td>2021-08-27</td>\n",
              "      <td>RO</td>\n",
              "      <td>Cabixi/RO</td>\n",
              "      <td>907</td>\n",
              "      <td>21</td>\n",
              "    </tr>\n",
              "    <tr>\n",
              "      <th>3</th>\n",
              "      <td>1100049</td>\n",
              "      <td>CACOAL</td>\n",
              "      <td>74.27</td>\n",
              "      <td>9.74</td>\n",
              "      <td>8.94</td>\n",
              "      <td>738.06</td>\n",
              "      <td>0.718</td>\n",
              "      <td>2021-08-27</td>\n",
              "      <td>RO</td>\n",
              "      <td>Cacoal/RO</td>\n",
              "      <td>14499</td>\n",
              "      <td>302</td>\n",
              "    </tr>\n",
              "    <tr>\n",
              "      <th>4</th>\n",
              "      <td>1100056</td>\n",
              "      <td>CEREJEIRAS</td>\n",
              "      <td>72.94</td>\n",
              "      <td>10.22</td>\n",
              "      <td>11.17</td>\n",
              "      <td>577.18</td>\n",
              "      <td>0.692</td>\n",
              "      <td>2021-08-27</td>\n",
              "      <td>RO</td>\n",
              "      <td>Cerejeiras/RO</td>\n",
              "      <td>2536</td>\n",
              "      <td>61</td>\n",
              "    </tr>\n",
              "    <tr>\n",
              "      <th>...</th>\n",
              "      <td>...</td>\n",
              "      <td>...</td>\n",
              "      <td>...</td>\n",
              "      <td>...</td>\n",
              "      <td>...</td>\n",
              "      <td>...</td>\n",
              "      <td>...</td>\n",
              "      <td>...</td>\n",
              "      <td>...</td>\n",
              "      <td>...</td>\n",
              "      <td>...</td>\n",
              "      <td>...</td>\n",
              "    </tr>\n",
              "    <tr>\n",
              "      <th>5560</th>\n",
              "      <td>5222005</td>\n",
              "      <td>VIANÓPOLIS</td>\n",
              "      <td>74.10</td>\n",
              "      <td>10.11</td>\n",
              "      <td>8.52</td>\n",
              "      <td>664.33</td>\n",
              "      <td>0.712</td>\n",
              "      <td>2021-08-27</td>\n",
              "      <td>GO</td>\n",
              "      <td>Vianópolis/GO</td>\n",
              "      <td>961</td>\n",
              "      <td>33</td>\n",
              "    </tr>\n",
              "    <tr>\n",
              "      <th>5561</th>\n",
              "      <td>5222054</td>\n",
              "      <td>VICENTINÓPOLIS</td>\n",
              "      <td>73.25</td>\n",
              "      <td>10.07</td>\n",
              "      <td>13.51</td>\n",
              "      <td>651.07</td>\n",
              "      <td>0.684</td>\n",
              "      <td>2021-08-27</td>\n",
              "      <td>GO</td>\n",
              "      <td>Vicentinópolis/GO</td>\n",
              "      <td>1377</td>\n",
              "      <td>24</td>\n",
              "    </tr>\n",
              "    <tr>\n",
              "      <th>5562</th>\n",
              "      <td>5222203</td>\n",
              "      <td>VILA BOA</td>\n",
              "      <td>74.07</td>\n",
              "      <td>10.49</td>\n",
              "      <td>17.07</td>\n",
              "      <td>376.72</td>\n",
              "      <td>0.647</td>\n",
              "      <td>2021-08-27</td>\n",
              "      <td>GO</td>\n",
              "      <td>Vila Boa/GO</td>\n",
              "      <td>198</td>\n",
              "      <td>4</td>\n",
              "    </tr>\n",
              "    <tr>\n",
              "      <th>5563</th>\n",
              "      <td>5222302</td>\n",
              "      <td>VILA PROPÍCIO</td>\n",
              "      <td>73.09</td>\n",
              "      <td>9.46</td>\n",
              "      <td>20.75</td>\n",
              "      <td>401.84</td>\n",
              "      <td>0.634</td>\n",
              "      <td>2021-08-27</td>\n",
              "      <td>GO</td>\n",
              "      <td>Vila Propício/GO</td>\n",
              "      <td>391</td>\n",
              "      <td>7</td>\n",
              "    </tr>\n",
              "    <tr>\n",
              "      <th>5564</th>\n",
              "      <td>5300108</td>\n",
              "      <td>BRASÍLIA</td>\n",
              "      <td>77.35</td>\n",
              "      <td>9.87</td>\n",
              "      <td>3.66</td>\n",
              "      <td>1715.11</td>\n",
              "      <td>0.824</td>\n",
              "      <td>2021-08-27</td>\n",
              "      <td>DF</td>\n",
              "      <td>Brasília/DF</td>\n",
              "      <td>467693</td>\n",
              "      <td>9993</td>\n",
              "    </tr>\n",
              "  </tbody>\n",
              "</table>\n",
              "<p>5565 rows × 12 columns</p>\n",
              "</div>"
            ],
            "text/plain": [
              "       ibgeID              Municipio  ...  totalCases  deaths\n",
              "0     1100015  ALTA FLORESTA D'OESTE  ...        4052      65\n",
              "1     1100023              ARIQUEMES  ...       22496     494\n",
              "2     1100031                 CABIXI  ...         907      21\n",
              "3     1100049                 CACOAL  ...       14499     302\n",
              "4     1100056             CEREJEIRAS  ...        2536      61\n",
              "...       ...                    ...  ...         ...     ...\n",
              "5560  5222005             VIANÓPOLIS  ...         961      33\n",
              "5561  5222054         VICENTINÓPOLIS  ...        1377      24\n",
              "5562  5222203               VILA BOA  ...         198       4\n",
              "5563  5222302          VILA PROPÍCIO  ...         391       7\n",
              "5564  5300108               BRASÍLIA  ...      467693    9993\n",
              "\n",
              "[5565 rows x 12 columns]"
            ]
          },
          "metadata": {},
          "execution_count": 21
        }
      ]
    },
    {
      "cell_type": "code",
      "metadata": {
        "id": "ErziWwZHF1zr"
      },
      "source": [
        "dados_completos.to_excel('dados_completos.xlsx')"
      ],
      "execution_count": null,
      "outputs": []
    },
    {
      "cell_type": "markdown",
      "metadata": {
        "id": "GXGzgz7rX4-b"
      },
      "source": [
        "## 3 - No dataset após o join, obter o índice de Gini por UF (state). Qual UF chamou atenção? Por que isto ocorreu?"
      ]
    },
    {
      "cell_type": "code",
      "metadata": {
        "id": "Dskcq6vSMPyZ"
      },
      "source": [
        "def gini(array):\n",
        "    array = array.flatten()\n",
        "    if np.amin(array) < 0:\n",
        "        array -= np.amin(array)\n",
        "    array += 0.0000001\n",
        "    array = np.sort(array)\n",
        "    index = np.arange(1,array.shape[0]+1)\n",
        "    n = array.shape[0]\n",
        "    return ((np.sum((2 * index - n  - 1) * array)) / (n * np.sum(array)))"
      ],
      "execution_count": null,
      "outputs": []
    },
    {
      "cell_type": "code",
      "metadata": {
        "colab": {
          "base_uri": "https://localhost:8080/",
          "height": 893
        },
        "id": "00bIU2XnMP0k",
        "outputId": "68eafea7-c270-431e-da13-514d9f05793c"
      },
      "source": [
        "dados_gini = dados_completos.groupby('state')['RDPC'].apply( lambda x: gini(x.values)).to_frame().reset_index()\n",
        "dados_gini"
      ],
      "execution_count": null,
      "outputs": [
        {
          "output_type": "execute_result",
          "data": {
            "text/html": [
              "<div>\n",
              "<style scoped>\n",
              "    .dataframe tbody tr th:only-of-type {\n",
              "        vertical-align: middle;\n",
              "    }\n",
              "\n",
              "    .dataframe tbody tr th {\n",
              "        vertical-align: top;\n",
              "    }\n",
              "\n",
              "    .dataframe thead th {\n",
              "        text-align: right;\n",
              "    }\n",
              "</style>\n",
              "<table border=\"1\" class=\"dataframe\">\n",
              "  <thead>\n",
              "    <tr style=\"text-align: right;\">\n",
              "      <th></th>\n",
              "      <th>state</th>\n",
              "      <th>RDPC</th>\n",
              "    </tr>\n",
              "  </thead>\n",
              "  <tbody>\n",
              "    <tr>\n",
              "      <th>0</th>\n",
              "      <td>AC</td>\n",
              "      <td>0.195495</td>\n",
              "    </tr>\n",
              "    <tr>\n",
              "      <th>1</th>\n",
              "      <td>AL</td>\n",
              "      <td>0.140823</td>\n",
              "    </tr>\n",
              "    <tr>\n",
              "      <th>2</th>\n",
              "      <td>AM</td>\n",
              "      <td>0.180262</td>\n",
              "    </tr>\n",
              "    <tr>\n",
              "      <th>3</th>\n",
              "      <td>AP</td>\n",
              "      <td>0.177035</td>\n",
              "    </tr>\n",
              "    <tr>\n",
              "      <th>4</th>\n",
              "      <td>BA</td>\n",
              "      <td>0.160275</td>\n",
              "    </tr>\n",
              "    <tr>\n",
              "      <th>5</th>\n",
              "      <td>CE</td>\n",
              "      <td>0.132551</td>\n",
              "    </tr>\n",
              "    <tr>\n",
              "      <th>6</th>\n",
              "      <td>DF</td>\n",
              "      <td>0.000000</td>\n",
              "    </tr>\n",
              "    <tr>\n",
              "      <th>7</th>\n",
              "      <td>ES</td>\n",
              "      <td>0.153020</td>\n",
              "    </tr>\n",
              "    <tr>\n",
              "      <th>8</th>\n",
              "      <td>GO</td>\n",
              "      <td>0.138104</td>\n",
              "    </tr>\n",
              "    <tr>\n",
              "      <th>9</th>\n",
              "      <td>MA</td>\n",
              "      <td>0.187907</td>\n",
              "    </tr>\n",
              "    <tr>\n",
              "      <th>10</th>\n",
              "      <td>MG</td>\n",
              "      <td>0.192143</td>\n",
              "    </tr>\n",
              "    <tr>\n",
              "      <th>11</th>\n",
              "      <td>MS</td>\n",
              "      <td>0.134532</td>\n",
              "    </tr>\n",
              "    <tr>\n",
              "      <th>12</th>\n",
              "      <td>MT</td>\n",
              "      <td>0.154616</td>\n",
              "    </tr>\n",
              "    <tr>\n",
              "      <th>13</th>\n",
              "      <td>PA</td>\n",
              "      <td>0.208619</td>\n",
              "    </tr>\n",
              "    <tr>\n",
              "      <th>14</th>\n",
              "      <td>PB</td>\n",
              "      <td>0.134084</td>\n",
              "    </tr>\n",
              "    <tr>\n",
              "      <th>15</th>\n",
              "      <td>PE</td>\n",
              "      <td>0.169153</td>\n",
              "    </tr>\n",
              "    <tr>\n",
              "      <th>16</th>\n",
              "      <td>PI</td>\n",
              "      <td>0.149203</td>\n",
              "    </tr>\n",
              "    <tr>\n",
              "      <th>17</th>\n",
              "      <td>PR</td>\n",
              "      <td>0.131235</td>\n",
              "    </tr>\n",
              "    <tr>\n",
              "      <th>18</th>\n",
              "      <td>RJ</td>\n",
              "      <td>0.146672</td>\n",
              "    </tr>\n",
              "    <tr>\n",
              "      <th>19</th>\n",
              "      <td>RN</td>\n",
              "      <td>0.144012</td>\n",
              "    </tr>\n",
              "    <tr>\n",
              "      <th>20</th>\n",
              "      <td>RO</td>\n",
              "      <td>0.127922</td>\n",
              "    </tr>\n",
              "    <tr>\n",
              "      <th>21</th>\n",
              "      <td>RR</td>\n",
              "      <td>0.241690</td>\n",
              "    </tr>\n",
              "    <tr>\n",
              "      <th>22</th>\n",
              "      <td>RS</td>\n",
              "      <td>0.153786</td>\n",
              "    </tr>\n",
              "    <tr>\n",
              "      <th>23</th>\n",
              "      <td>SC</td>\n",
              "      <td>0.137464</td>\n",
              "    </tr>\n",
              "    <tr>\n",
              "      <th>24</th>\n",
              "      <td>SE</td>\n",
              "      <td>0.140378</td>\n",
              "    </tr>\n",
              "    <tr>\n",
              "      <th>25</th>\n",
              "      <td>SP</td>\n",
              "      <td>0.140590</td>\n",
              "    </tr>\n",
              "    <tr>\n",
              "      <th>26</th>\n",
              "      <td>TO</td>\n",
              "      <td>0.173719</td>\n",
              "    </tr>\n",
              "  </tbody>\n",
              "</table>\n",
              "</div>"
            ],
            "text/plain": [
              "   state      RDPC\n",
              "0     AC  0.195495\n",
              "1     AL  0.140823\n",
              "2     AM  0.180262\n",
              "3     AP  0.177035\n",
              "4     BA  0.160275\n",
              "5     CE  0.132551\n",
              "6     DF  0.000000\n",
              "7     ES  0.153020\n",
              "8     GO  0.138104\n",
              "9     MA  0.187907\n",
              "10    MG  0.192143\n",
              "11    MS  0.134532\n",
              "12    MT  0.154616\n",
              "13    PA  0.208619\n",
              "14    PB  0.134084\n",
              "15    PE  0.169153\n",
              "16    PI  0.149203\n",
              "17    PR  0.131235\n",
              "18    RJ  0.146672\n",
              "19    RN  0.144012\n",
              "20    RO  0.127922\n",
              "21    RR  0.241690\n",
              "22    RS  0.153786\n",
              "23    SC  0.137464\n",
              "24    SE  0.140378\n",
              "25    SP  0.140590\n",
              "26    TO  0.173719"
            ]
          },
          "metadata": {},
          "execution_count": 24
        }
      ]
    },
    {
      "cell_type": "code",
      "metadata": {
        "colab": {
          "base_uri": "https://localhost:8080/",
          "height": 81
        },
        "id": "3ouRt08Q3WWj",
        "outputId": "2634763d-b900-42a5-f815-894d149d0637"
      },
      "source": [
        "dados_completos[dados_completos['state'] == 'DF'][['state','RDPC']]"
      ],
      "execution_count": null,
      "outputs": [
        {
          "output_type": "execute_result",
          "data": {
            "text/html": [
              "<div>\n",
              "<style scoped>\n",
              "    .dataframe tbody tr th:only-of-type {\n",
              "        vertical-align: middle;\n",
              "    }\n",
              "\n",
              "    .dataframe tbody tr th {\n",
              "        vertical-align: top;\n",
              "    }\n",
              "\n",
              "    .dataframe thead th {\n",
              "        text-align: right;\n",
              "    }\n",
              "</style>\n",
              "<table border=\"1\" class=\"dataframe\">\n",
              "  <thead>\n",
              "    <tr style=\"text-align: right;\">\n",
              "      <th></th>\n",
              "      <th>state</th>\n",
              "      <th>RDPC</th>\n",
              "    </tr>\n",
              "  </thead>\n",
              "  <tbody>\n",
              "    <tr>\n",
              "      <th>5564</th>\n",
              "      <td>DF</td>\n",
              "      <td>1715.11</td>\n",
              "    </tr>\n",
              "  </tbody>\n",
              "</table>\n",
              "</div>"
            ],
            "text/plain": [
              "     state     RDPC\n",
              "5564    DF  1715.11"
            ]
          },
          "metadata": {},
          "execution_count": 25
        }
      ]
    },
    {
      "cell_type": "code",
      "metadata": {
        "colab": {
          "base_uri": "https://localhost:8080/",
          "height": 81
        },
        "id": "VZM-Cni3_SFP",
        "outputId": "15d403b2-3860-4526-dbd3-b9681f2d0e69"
      },
      "source": [
        "dados_gini[dados_gini['state'] == 'DF'][['state','RDPC']]"
      ],
      "execution_count": null,
      "outputs": [
        {
          "output_type": "execute_result",
          "data": {
            "text/html": [
              "<div>\n",
              "<style scoped>\n",
              "    .dataframe tbody tr th:only-of-type {\n",
              "        vertical-align: middle;\n",
              "    }\n",
              "\n",
              "    .dataframe tbody tr th {\n",
              "        vertical-align: top;\n",
              "    }\n",
              "\n",
              "    .dataframe thead th {\n",
              "        text-align: right;\n",
              "    }\n",
              "</style>\n",
              "<table border=\"1\" class=\"dataframe\">\n",
              "  <thead>\n",
              "    <tr style=\"text-align: right;\">\n",
              "      <th></th>\n",
              "      <th>state</th>\n",
              "      <th>RDPC</th>\n",
              "    </tr>\n",
              "  </thead>\n",
              "  <tbody>\n",
              "    <tr>\n",
              "      <th>6</th>\n",
              "      <td>DF</td>\n",
              "      <td>0.0</td>\n",
              "    </tr>\n",
              "  </tbody>\n",
              "</table>\n",
              "</div>"
            ],
            "text/plain": [
              "  state  RDPC\n",
              "6    DF   0.0"
            ]
          },
          "metadata": {},
          "execution_count": 26
        }
      ]
    },
    {
      "cell_type": "code",
      "metadata": {
        "colab": {
          "base_uri": "https://localhost:8080/",
          "height": 283
        },
        "id": "LeHuVH9fP__H",
        "outputId": "b7ba196e-8136-4ea6-f821-1fd6dc25b81b"
      },
      "source": [
        "estado_1 = 'DF'\n",
        "dados_estado_1 = dados_completos[dados_completos['state'] == estado_1]\n",
        "dados_estado_1 = dados_estado_1.sort_values('RDPC').reset_index(drop=True)\n",
        "total = np.sum(dados_estado_1['RDPC'].values)\n",
        "p_renda_estado_1 = np.append(np.array([0]), np.cumsum(dados_estado_1['RDPC'].values)/total)\n",
        "p_familias_estado_1 = np.linspace(0, 1, len(p_renda_estado_1))\n",
        "df_estado_1 = pd.DataFrame({'p_familias_estado_1': p_familias_estado_1, \n",
        "                            'p_renda_estado_1':p_renda_estado_1})\n",
        "\n",
        "#Plotando o gráficio\n",
        "fig, ax = plt.subplots()\n",
        "ax.plot(df_estado_1['p_familias_estado_1'], df_estado_1['p_renda_estado_1'], label=estado_1)\n",
        "ax.plot([0, 1], [0, 1], 'r--', label='Linha Referencia')\n",
        "ax.legend()"
      ],
      "execution_count": null,
      "outputs": [
        {
          "output_type": "execute_result",
          "data": {
            "text/plain": [
              "<matplotlib.legend.Legend at 0x7f5c96b65190>"
            ]
          },
          "metadata": {},
          "execution_count": 27
        },
        {
          "output_type": "display_data",
          "data": {
            "image/png": "[encoded data removed]",
            "text/plain": [
              "<Figure size 432x288 with 1 Axes>"
            ]
          },
          "metadata": {
            "needs_background": "light"
          }
        }
      ]
    },
    {
      "cell_type": "markdown",
      "metadata": {
        "id": "YNbhzL-4IYdj"
      },
      "source": [
        "- O Distrito Federal foi o estado que chamou atenção, pois seu índice de gini é igual a zero. Conforme podemos avaliar no gráfico plotado, não temos uma curva de variação de desigualdade.\n",
        "  Analisando de maneira mais simples, poderíamos entender que o estado não possui desigualde de renda.\n",
        "Porem avaliando mais a fundo, esse fator acontece, pois o distrito federal é muito pequeno em relação aos outros estados, possuindo apenas um municipio e com isso apenas um registro no dataframe. Nesse caso, uma opção seria avaliar o estado por suas regiões administrativas, que são 33.\n",
        "\n",
        "link regiões administrativas\n",
        "https://pt.wikipedia.org/wiki/Lista_de_regi%C3%B5es_administrativas_do_Distrito_Federal_por_popula%C3%A7%C3%A3o\n"
      ]
    },
    {
      "cell_type": "markdown",
      "metadata": {
        "id": "iSVgHq3Pg6aB"
      },
      "source": [
        "## 4 - Obtenha o sumário das colunas por UF (state), similar a figura abaixo (apresentar o código):"
      ]
    },
    {
      "cell_type": "code",
      "metadata": {
        "id": "L3OBOofXg1dQ"
      },
      "source": [
        "dados_resumo = dados_completos.groupby('state').agg(CasosTotais = pd.NamedAgg('venda','sum'),\n",
        "                                                    MortesTotais = pd.NamedAgg('desconto', 'sum'),\n",
        "                                                    MediaESPVIDA = pd.NamedAgg('venda','mean'),\n",
        "                                                    MediaE_ANOSESTUDO = pd.NamedAgg('E_ANOSESTUDO','mean'),\n",
        "                                                    Mediana_IDHM = pd.NamedAgg('venda','median'),\n",
        "                                                    Mediana_RDPC = pd.NamedAgg('RDPC','median'),\n",
        "                                                    DP_RDPC = pd.NamedAgg('RDPC','std'))\\\n",
        "                                                    .reset_index()"
      ],
      "execution_count": null,
      "outputs": []
    },
    {
      "cell_type": "code",
      "metadata": {
        "colab": {
          "base_uri": "https://localhost:8080/",
          "height": 205
        },
        "id": "VQ00vAkXg1fc",
        "outputId": "5cca61d9-cd17-4368-81cf-7a01473e95f6"
      },
      "source": [
        "dados_resumo.head()"
      ],
      "execution_count": null,
      "outputs": [
        {
          "output_type": "execute_result",
          "data": {
            "text/html": [
              "<div>\n",
              "<style scoped>\n",
              "    .dataframe tbody tr th:only-of-type {\n",
              "        vertical-align: middle;\n",
              "    }\n",
              "\n",
              "    .dataframe tbody tr th {\n",
              "        vertical-align: top;\n",
              "    }\n",
              "\n",
              "    .dataframe thead th {\n",
              "        text-align: right;\n",
              "    }\n",
              "</style>\n",
              "<table border=\"1\" class=\"dataframe\">\n",
              "  <thead>\n",
              "    <tr style=\"text-align: right;\">\n",
              "      <th></th>\n",
              "      <th>state</th>\n",
              "      <th>CasosTotais</th>\n",
              "      <th>MortesTotais</th>\n",
              "      <th>MediaESPVIDA</th>\n",
              "      <th>MediaE_ANOSESTUDO</th>\n",
              "      <th>MediaT_T_ANALF18M</th>\n",
              "      <th>Mediana_IDHM</th>\n",
              "      <th>Mediana_RDPC</th>\n",
              "      <th>DP_RDPC</th>\n",
              "    </tr>\n",
              "  </thead>\n",
              "  <tbody>\n",
              "    <tr>\n",
              "      <th>0</th>\n",
              "      <td>AC</td>\n",
              "      <td>87798</td>\n",
              "      <td>1813</td>\n",
              "      <td>70.991818</td>\n",
              "      <td>7.752273</td>\n",
              "      <td>26.106818</td>\n",
              "      <td>0.5885</td>\n",
              "      <td>313.705</td>\n",
              "      <td>127.780499</td>\n",
              "    </tr>\n",
              "    <tr>\n",
              "      <th>1</th>\n",
              "      <td>AL</td>\n",
              "      <td>235262</td>\n",
              "      <td>6048</td>\n",
              "      <td>69.367843</td>\n",
              "      <td>8.896961</td>\n",
              "      <td>35.308529</td>\n",
              "      <td>0.5625</td>\n",
              "      <td>233.440</td>\n",
              "      <td>79.124345</td>\n",
              "    </tr>\n",
              "    <tr>\n",
              "      <th>2</th>\n",
              "      <td>AM</td>\n",
              "      <td>423832</td>\n",
              "      <td>13674</td>\n",
              "      <td>70.924677</td>\n",
              "      <td>7.451774</td>\n",
              "      <td>20.889194</td>\n",
              "      <td>0.5640</td>\n",
              "      <td>227.585</td>\n",
              "      <td>98.250134</td>\n",
              "    </tr>\n",
              "    <tr>\n",
              "      <th>3</th>\n",
              "      <td>AP</td>\n",
              "      <td>122383</td>\n",
              "      <td>1950</td>\n",
              "      <td>72.028125</td>\n",
              "      <td>9.035625</td>\n",
              "      <td>13.997500</td>\n",
              "      <td>0.6410</td>\n",
              "      <td>402.440</td>\n",
              "      <td>133.018963</td>\n",
              "    </tr>\n",
              "    <tr>\n",
              "      <th>4</th>\n",
              "      <td>BA</td>\n",
              "      <td>1207512</td>\n",
              "      <td>26093</td>\n",
              "      <td>70.570288</td>\n",
              "      <td>8.453453</td>\n",
              "      <td>25.816427</td>\n",
              "      <td>0.5890</td>\n",
              "      <td>272.860</td>\n",
              "      <td>101.927806</td>\n",
              "    </tr>\n",
              "  </tbody>\n",
              "</table>\n",
              "</div>"
            ],
            "text/plain": [
              "  state  CasosTotais  MortesTotais  ...  Mediana_IDHM  Mediana_RDPC     DP_RDPC\n",
              "0    AC        87798          1813  ...        0.5885       313.705  127.780499\n",
              "1    AL       235262          6048  ...        0.5625       233.440   79.124345\n",
              "2    AM       423832         13674  ...        0.5640       227.585   98.250134\n",
              "3    AP       122383          1950  ...        0.6410       402.440  133.018963\n",
              "4    BA      1207512         26093  ...        0.5890       272.860  101.927806\n",
              "\n",
              "[5 rows x 9 columns]"
            ]
          },
          "metadata": {},
          "execution_count": 29
        }
      ]
    },
    {
      "cell_type": "code",
      "metadata": {
        "id": "45ug9gGD_YRO"
      },
      "source": [
        "dados_resumo.to_excel('dados_resumo.xlsx')"
      ],
      "execution_count": null,
      "outputs": []
    },
    {
      "cell_type": "markdown",
      "metadata": {
        "id": "SH1mr_f1lUFX"
      },
      "source": [
        "## 5 – Por meio das análises na tabela obtida na questão 4, pode-se presumir algum resultado interessante? Apresente sua opinião"
      ]
    },
    {
      "cell_type": "code",
      "metadata": {
        "id": "N-DDYEVrg1j2"
      },
      "source": [
        "import matplotlib.pyplot as plt"
      ],
      "execution_count": null,
      "outputs": []
    },
    {
      "cell_type": "code",
      "metadata": {
        "colab": {
          "base_uri": "https://localhost:8080/",
          "height": 320
        },
        "id": "anFKJB70pAEJ",
        "outputId": "fa49a724-1605-4286-9b17-18230bc4b95c"
      },
      "source": [
        "dados_resumo_mortes = dados_resumo.sort_values(\"MortesTotais\",ascending=False)\n",
        "ax = dados_resumo_mortes.plot.bar(x = 'state', y = [\"MortesTotais\"],legend = None)\n",
        "plt.xlabel('Estados')\n",
        "plt.ylabel('Média Espectativa de Vida')\n",
        "plt.title('MediaESPVIDA x Taxa analfabetismo')"
      ],
      "execution_count": null,
      "outputs": [
        {
          "output_type": "execute_result",
          "data": {
            "text/plain": [
              "Text(0.5, 1.0, 'MediaESPVIDA x Taxa analfabetismo')"
            ]
          },
          "metadata": {},
          "execution_count": 32
        },
        {
          "output_type": "display_data",
          "data": {
            "image/png": "[encoded data removed]",
            "text/plain": [
              "<Figure size 432x288 with 1 Axes>"
            ]
          },
          "metadata": {
            "needs_background": "light"
          }
        }
      ]
    },
    {
      "cell_type": "code",
      "metadata": {
        "id": "wETP-EOtP9qm"
      },
      "source": [
        "dados_resumo_esp = dados_resumo.sort_values(\"MediaESPVIDA\",ascending=False)"
      ],
      "execution_count": null,
      "outputs": []
    },
    {
      "cell_type": "code",
      "metadata": {
        "id": "Rs3QIL4gg1ol",
        "colab": {
          "base_uri": "https://localhost:8080/",
          "height": 320
        },
        "outputId": "302ad511-b162-40f3-f862-1d1feb8a7b7a"
      },
      "source": [
        "dados_resumo_esp = dados_resumo.sort_values(\"MediaESPVIDA\",ascending=False)\n",
        "\n",
        "ax = dados_resumo_esp.plot.bar(x = 'state', y = ['MediaESPVIDA',\"MediaT_T_ANALF18M\"],legend = None)\n",
        "plt.xlabel('Estados')\n",
        "plt.ylabel('Média Espectativa de Vida')\n",
        "plt.title('MediaESPVIDA x Taxa analfabetismo')"
      ],
      "execution_count": null,
      "outputs": [
        {
          "output_type": "execute_result",
          "data": {
            "text/plain": [
              "Text(0.5, 1.0, 'MediaESPVIDA x Taxa analfabetismo')"
            ]
          },
          "metadata": {},
          "execution_count": 34
        },
        {
          "output_type": "display_data",
          "data": {
            "image/png": "[encoded data removed]",
            "text/plain": [
              "<Figure size 432x288 with 1 Axes>"
            ]
          },
          "metadata": {
            "needs_background": "light"
          }
        }
      ]
    },
    {
      "cell_type": "code",
      "metadata": {
        "colab": {
          "base_uri": "https://localhost:8080/",
          "height": 320
        },
        "id": "EdOpFA-HmLJ1",
        "outputId": "2dcd9ca8-6021-43bd-e766-5d6deb518c22"
      },
      "source": [
        "ax = dados_resumo_esp.plot.bar(x = 'state', y = [\"DP_RDPC\",\"MediaESPVIDA\"],legend = None)\n",
        "plt.xlabel('Estados')\n",
        "plt.ylabel('Renda e expectativa de vida')\n",
        "plt.title('Renda e expectativa de vida')"
      ],
      "execution_count": null,
      "outputs": [
        {
          "output_type": "execute_result",
          "data": {
            "text/plain": [
              "Text(0.5, 1.0, 'Renda e expectativa de vida')"
            ]
          },
          "metadata": {},
          "execution_count": 35
        },
        {
          "output_type": "display_data",
          "data": {
            "image/png": "[encoded data removed]",
            "text/plain": [
              "<Figure size 432x288 with 1 Axes>"
            ]
          },
          "metadata": {
            "needs_background": "light"
          }
        }
      ]
    },
    {
      "cell_type": "markdown",
      "metadata": {
        "id": "QNJRUm2Rn4X4"
      },
      "source": [
        "- Analisando os graficos e a tabela, podemos verificar que estados com maiores taxas de analfabetistismo possuem uma espectativa de vida menor. Uma hipotese para isso, é que ao concluir um nivel de escolaridade, melhor são as chances do individuo ter mais recursos e acesso a condições sociais, como alimentação e saúde. Porém no caso do covid, conforme visto no primeiro grafico. Estados muito bem posicionados economicamente, tiveram valores altos de casos totais e mortes. Indicando que o virus afeta todos idependente da renda.\n",
        "- Para uma analise melhor, o ideal seria fazer a quantidade de mortes por milhao em cada estado, visto que a população entre cada um se altera bastante."
      ]
    },
    {
      "cell_type": "code",
      "metadata": {
        "colab": {
          "base_uri": "https://localhost:8080/",
          "height": 401
        },
        "id": "214IxmZHNHS-",
        "outputId": "1fa23ee2-7585-45b9-c4eb-1b30cfa42731"
      },
      "source": [
        "## Grafico de dispersao Mortes Totais x Mediana_RDPC\n",
        "sns.lmplot(x = 'MortesTotais', y ='Mediana_RDPC', data = dados_resumo)"
      ],
      "execution_count": null,
      "outputs": [
        {
          "output_type": "execute_result",
          "data": {
            "text/plain": [
              "<seaborn.axisgrid.FacetGrid at 0x7f5c963c3610>"
            ]
          },
          "metadata": {},
          "execution_count": 39
        },
        {
          "output_type": "display_data",
          "data": {
            "image/png": "[encoded data removed]",
            "text/plain": [
              "<Figure size 360x360 with 1 Axes>"
            ]
          },
          "metadata": {
            "needs_background": "light"
          }
        }
      ]
    },
    {
      "cell_type": "code",
      "metadata": {
        "colab": {
          "base_uri": "https://localhost:8080/",
          "height": 768
        },
        "id": "m2ky4eL8wzU7",
        "outputId": "a47e6bcc-8453-4ea1-eefa-8191525d20e1"
      },
      "source": [
        "## Grafico de dispersao Mortes Totais x Mediana_RDPC\n",
        "sns.lmplot( x = 'MediaE_ANOSESTUDO', y ='Mediana_RDPC', data = dados_resumo)\n",
        "sns.lmplot(x = 'MortesTotais', y ='Mediana_RDPC', data = dados_resumo)"
      ],
      "execution_count": null,
      "outputs": [
        {
          "output_type": "execute_result",
          "data": {
            "text/plain": [
              "<seaborn.axisgrid.FacetGrid at 0x7f5c95fb8f90>"
            ]
          },
          "metadata": {},
          "execution_count": 41
        },
        {
          "output_type": "display_data",
          "data": {
            "image/png": "[encoded data removed]",
            "text/plain": [
              "<Figure size 360x360 with 1 Axes>"
            ]
          },
          "metadata": {
            "needs_background": "light"
          }
        },
        {
          "output_type": "display_data",
          "data": {
            "image/png": "[encoded data removed]",
            "text/plain": [
              "<Figure size 360x360 with 1 Axes>"
            ]
          },
          "metadata": {
            "needs_background": "light"
          }
        }
      ]
    },
    {
      "cell_type": "markdown",
      "metadata": {
        "id": "4P6kx0L2PDnw"
      },
      "source": [
        "####Analisando o primeiro gráfico podemos perceber que pessoas com mais anos de estudo possuem uma renda maior, a relação entre essas duas variáveis é proporcional. No segundo gráfico, percebemos que quando a renda aumenta as mortes diminuem. E quando a renda diminui as mortes aumentam. Isso mostra que no Brasil a covid é mais letal na população mais pobre  e menos anos de estudo. Uma inferência sobre esse resultado, seria que essa população possui menos acesso a saúde de qualidade. E devido a menor taxa de anos de estudo, são mais propensos a terem subempregos, trabalharem informalmente, e não podem cumprir quarentena como  a população com maior estudo e maior renda. \n"
      ]
    },
    {
      "cell_type": "code",
      "metadata": {
        "colab": {
          "base_uri": "https://localhost:8080/",
          "height": 283
        },
        "id": "2PEu41-jxAIC",
        "outputId": "8febadec-0228-4e69-96e3-63e3b3946938"
      },
      "source": [
        "dados_completos.boxplot(column = 'RDPC' )\n",
        "plt.show"
      ],
      "execution_count": null,
      "outputs": [
        {
          "output_type": "execute_result",
          "data": {
            "text/plain": [
              "<function matplotlib.pyplot.show>"
            ]
          },
          "metadata": {},
          "execution_count": 42
        },
        {
          "output_type": "display_data",
          "data": {
            "image/png": "[encoded data removed]",
            "text/plain": [
              "<Figure size 432x288 with 1 Axes>"
            ]
          },
          "metadata": {
            "needs_background": "light"
          }
        }
      ]
    },
    {
      "cell_type": "code",
      "metadata": {
        "id": "bPawrZs-xEXz"
      },
      "source": [
        "#  Nesse gráfico identificamos que praticamente 75% das familias brasileiras possuem uma RDCP abaixo de R$ 750,00. \n",
        "#  O valor esta abaixo  do salário minimo que hoje é de 1.100,00. \n",
        "# # Em contrapartida existem outliers com um RDPC de até R$ 2.000,00 ressaltando como a renda brasileira é desigual."
      ],
      "execution_count": null,
      "outputs": []
    }
  ]
}