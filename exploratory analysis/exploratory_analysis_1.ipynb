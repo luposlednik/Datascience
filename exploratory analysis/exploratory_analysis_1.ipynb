{
  "nbformat": 4,
  "nbformat_minor": 0,
  "metadata": {
    "colab": {
      "provenance": [],
      "collapsed_sections": [
        "1tdr4RHQqyVZ",
        "ErP5WcuUq-2Y",
        "l2qK2MIvlm1M",
        "bF7iRzJ3lzjs"
      ]
    },
    "kernelspec": {
      "name": "python3",
      "display_name": "Python 3"
    }
  },
  "cells": [
    {
      "cell_type": "markdown",
      "metadata": {
        "id": "MVYnsCKTRFt7"
      },
      "source": [
        "# Checkpoint 1"
      ]
    },
    {
      "cell_type": "markdown",
      "metadata": {
        "id": "VB6rsGNoRIEs"
      },
      "source": [
        "## Carregar módulos"
      ]
    },
    {
      "cell_type": "code",
      "metadata": {
        "id": "IRai7_OaRIJQ"
      },
      "source": [
        "import numpy as np\n",
        "import pandas as pd\n",
        "import matplotlib.pyplot as plt\n",
        "%matplotlib inline\n",
        "import seaborn as sns"
      ],
      "execution_count": null,
      "outputs": []
    },
    {
      "cell_type": "markdown",
      "metadata": {
        "id": "KOHsl-KNRINm"
      },
      "source": [
        "## Carregar dados"
      ]
    },
    {
      "cell_type": "code",
      "metadata": {
        "id": "bKE4njwDRIRm"
      },
      "source": [
        "path = 'https://raw.githubusercontent.com/CSSEGISandData/COVID-19/master/csse_covid_19_data/csse_covid_19_time_series/time_series_covid19_confirmed_global.csv'\n",
        "path_dead =  'https://raw.githubusercontent.com/CSSEGISandData/COVID-19/master/csse_covid_19_data/csse_covid_19_time_series/time_series_covid19_deaths_global.csv'"
      ],
      "execution_count": null,
      "outputs": []
    },
    {
      "cell_type": "code",
      "metadata": {
        "id": "Pb1mQyrlRIVv"
      },
      "source": [
        "dados_paises_covid = pd.read_csv(path)\n",
        "dados_paises_covid_dead = pd.read_csv(path_dead)"
      ],
      "execution_count": null,
      "outputs": []
    },
    {
      "cell_type": "markdown",
      "metadata": {
        "id": "0K9ECqiJRIZz"
      },
      "source": [
        "## Ajustes\n",
        "\n"
      ]
    },
    {
      "cell_type": "markdown",
      "metadata": {
        "id": "l-WQgrhUV8tq"
      },
      "source": [
        "- Nomes das colunas"
      ]
    },
    {
      "cell_type": "code",
      "metadata": {
        "id": "SaCpjFuARIeA"
      },
      "source": [
        "dados_paises_covid.rename(columns={\"Province/State\": \"province\", \n",
        "                                   \"Country/Region\": \"country\"}, \n",
        "                          inplace=True)"
      ],
      "execution_count": null,
      "outputs": []
    },
    {
      "cell_type": "code",
      "metadata": {
        "id": "dL98RCsDS9Nf"
      },
      "source": [
        "dados_paises_covid_dead.rename(columns={\"Province/State\": \"province\", \n",
        "                                        \"Country/Region\": \"country\"}, \n",
        "                               inplace=True)"
      ],
      "execution_count": null,
      "outputs": []
    },
    {
      "cell_type": "code",
      "metadata": {
        "colab": {
          "base_uri": "https://localhost:8080/"
        },
        "id": "C6QWe5tqS9Q_",
        "outputId": "bc1f75ad-ccda-44be-e6a0-8595ca76e44b"
      },
      "source": [
        "dados_paises_covid_dead.columns"
      ],
      "execution_count": null,
      "outputs": [
        {
          "output_type": "execute_result",
          "data": {
            "text/plain": [
              "Index(['province', 'country', 'Lat', 'Long', '1/22/20', '1/23/20', '1/24/20',\n",
              "       '1/25/20', '1/26/20', '1/27/20',\n",
              "       ...\n",
              "       '4/11/21', '4/12/21', '4/13/21', '4/14/21', '4/15/21', '4/16/21',\n",
              "       '4/17/21', '4/18/21', '4/19/21', '4/20/21'],\n",
              "      dtype='object', length=459)"
            ]
          },
          "metadata": {
            "tags": []
          },
          "execution_count": 6
        }
      ]
    },
    {
      "cell_type": "markdown",
      "metadata": {
        "id": "bIMzVm_0WBZH"
      },
      "source": [
        "- Reajustar dados"
      ]
    },
    {
      "cell_type": "code",
      "metadata": {
        "id": "WknmgipES9V0"
      },
      "source": [
        "dados_paises_covid = dados_paises_covid.melt(id_vars=['province', 'country', 'Lat', 'Long'], \n",
        "                                             var_name = 'date', \n",
        "                                             value_name = 'infected')"
      ],
      "execution_count": null,
      "outputs": []
    },
    {
      "cell_type": "code",
      "metadata": {
        "id": "Hc-sV4zWS9aH"
      },
      "source": [
        "dados_paises_covid_dead = dados_paises_covid_dead.melt(id_vars=['province', 'country', 'Lat', 'Long'], \n",
        "                                                       var_name = 'date', \n",
        "                                                       value_name = 'dead')"
      ],
      "execution_count": null,
      "outputs": []
    },
    {
      "cell_type": "code",
      "metadata": {
        "colab": {
          "base_uri": "https://localhost:8080/",
          "height": 204
        },
        "id": "QX2EUqp0S9eT",
        "outputId": "9850a8ec-ea49-410c-812f-bf69d438e240"
      },
      "source": [
        "dados_paises_covid_dead.tail()"
      ],
      "execution_count": null,
      "outputs": [
        {
          "output_type": "execute_result",
          "data": {
            "text/html": [
              "<div>\n",
              "<style scoped>\n",
              "    .dataframe tbody tr th:only-of-type {\n",
              "        vertical-align: middle;\n",
              "    }\n",
              "\n",
              "    .dataframe tbody tr th {\n",
              "        vertical-align: top;\n",
              "    }\n",
              "\n",
              "    .dataframe thead th {\n",
              "        text-align: right;\n",
              "    }\n",
              "</style>\n",
              "<table border=\"1\" class=\"dataframe\">\n",
              "  <thead>\n",
              "    <tr style=\"text-align: right;\">\n",
              "      <th></th>\n",
              "      <th>province</th>\n",
              "      <th>country</th>\n",
              "      <th>Lat</th>\n",
              "      <th>Long</th>\n",
              "      <th>date</th>\n",
              "      <th>dead</th>\n",
              "    </tr>\n",
              "  </thead>\n",
              "  <tbody>\n",
              "    <tr>\n",
              "      <th>124665</th>\n",
              "      <td>NaN</td>\n",
              "      <td>Vietnam</td>\n",
              "      <td>14.058324</td>\n",
              "      <td>108.277199</td>\n",
              "      <td>4/20/21</td>\n",
              "      <td>35</td>\n",
              "    </tr>\n",
              "    <tr>\n",
              "      <th>124666</th>\n",
              "      <td>NaN</td>\n",
              "      <td>West Bank and Gaza</td>\n",
              "      <td>31.952200</td>\n",
              "      <td>35.233200</td>\n",
              "      <td>4/20/21</td>\n",
              "      <td>3078</td>\n",
              "    </tr>\n",
              "    <tr>\n",
              "      <th>124667</th>\n",
              "      <td>NaN</td>\n",
              "      <td>Yemen</td>\n",
              "      <td>15.552727</td>\n",
              "      <td>48.516388</td>\n",
              "      <td>4/20/21</td>\n",
              "      <td>1138</td>\n",
              "    </tr>\n",
              "    <tr>\n",
              "      <th>124668</th>\n",
              "      <td>NaN</td>\n",
              "      <td>Zambia</td>\n",
              "      <td>-13.133897</td>\n",
              "      <td>27.849332</td>\n",
              "      <td>4/20/21</td>\n",
              "      <td>1236</td>\n",
              "    </tr>\n",
              "    <tr>\n",
              "      <th>124669</th>\n",
              "      <td>NaN</td>\n",
              "      <td>Zimbabwe</td>\n",
              "      <td>-19.015438</td>\n",
              "      <td>29.154857</td>\n",
              "      <td>4/20/21</td>\n",
              "      <td>1554</td>\n",
              "    </tr>\n",
              "  </tbody>\n",
              "</table>\n",
              "</div>"
            ],
            "text/plain": [
              "       province             country        Lat        Long     date  dead\n",
              "124665      NaN             Vietnam  14.058324  108.277199  4/20/21    35\n",
              "124666      NaN  West Bank and Gaza  31.952200   35.233200  4/20/21  3078\n",
              "124667      NaN               Yemen  15.552727   48.516388  4/20/21  1138\n",
              "124668      NaN              Zambia -13.133897   27.849332  4/20/21  1236\n",
              "124669      NaN            Zimbabwe -19.015438   29.154857  4/20/21  1554"
            ]
          },
          "metadata": {
            "tags": []
          },
          "execution_count": 9
        }
      ]
    },
    {
      "cell_type": "code",
      "metadata": {
        "colab": {
          "base_uri": "https://localhost:8080/"
        },
        "id": "QmpQK2_mWJi3",
        "outputId": "ffea4c88-7dee-49d5-da42-d65b7b84ad87"
      },
      "source": [
        "dados_paises_covid_dead.dtypes"
      ],
      "execution_count": null,
      "outputs": [
        {
          "output_type": "execute_result",
          "data": {
            "text/plain": [
              "province     object\n",
              "country      object\n",
              "Lat         float64\n",
              "Long        float64\n",
              "date         object\n",
              "dead          int64\n",
              "dtype: object"
            ]
          },
          "metadata": {
            "tags": []
          },
          "execution_count": 10
        }
      ]
    },
    {
      "cell_type": "markdown",
      "metadata": {
        "id": "AFvH-XFGS9ip"
      },
      "source": [
        "- Ajustar datas"
      ]
    },
    {
      "cell_type": "code",
      "metadata": {
        "id": "2qHen0szS9nZ"
      },
      "source": [
        "dados_paises_covid['date'] = pd.to_datetime(dados_paises_covid['date'], \n",
        "                                            infer_datetime_format='True')"
      ],
      "execution_count": null,
      "outputs": []
    },
    {
      "cell_type": "code",
      "metadata": {
        "id": "5hVb7IVeXIDn"
      },
      "source": [
        "dados_paises_covid_dead['date'] = pd.to_datetime(dados_paises_covid_dead['date'], \n",
        "                                                 infer_datetime_format='True')"
      ],
      "execution_count": null,
      "outputs": []
    },
    {
      "cell_type": "code",
      "metadata": {
        "colab": {
          "base_uri": "https://localhost:8080/",
          "height": 204
        },
        "id": "f78IaxkGXmbg",
        "outputId": "1ca1a17c-c848-429b-bc4f-c0b5ec79d525"
      },
      "source": [
        "dados_paises_covid.tail()"
      ],
      "execution_count": null,
      "outputs": [
        {
          "output_type": "execute_result",
          "data": {
            "text/html": [
              "<div>\n",
              "<style scoped>\n",
              "    .dataframe tbody tr th:only-of-type {\n",
              "        vertical-align: middle;\n",
              "    }\n",
              "\n",
              "    .dataframe tbody tr th {\n",
              "        vertical-align: top;\n",
              "    }\n",
              "\n",
              "    .dataframe thead th {\n",
              "        text-align: right;\n",
              "    }\n",
              "</style>\n",
              "<table border=\"1\" class=\"dataframe\">\n",
              "  <thead>\n",
              "    <tr style=\"text-align: right;\">\n",
              "      <th></th>\n",
              "      <th>province</th>\n",
              "      <th>country</th>\n",
              "      <th>Lat</th>\n",
              "      <th>Long</th>\n",
              "      <th>date</th>\n",
              "      <th>infected</th>\n",
              "    </tr>\n",
              "  </thead>\n",
              "  <tbody>\n",
              "    <tr>\n",
              "      <th>124665</th>\n",
              "      <td>NaN</td>\n",
              "      <td>Vietnam</td>\n",
              "      <td>14.058324</td>\n",
              "      <td>108.277199</td>\n",
              "      <td>2021-04-20</td>\n",
              "      <td>2800</td>\n",
              "    </tr>\n",
              "    <tr>\n",
              "      <th>124666</th>\n",
              "      <td>NaN</td>\n",
              "      <td>West Bank and Gaza</td>\n",
              "      <td>31.952200</td>\n",
              "      <td>35.233200</td>\n",
              "      <td>2021-04-20</td>\n",
              "      <td>284280</td>\n",
              "    </tr>\n",
              "    <tr>\n",
              "      <th>124667</th>\n",
              "      <td>NaN</td>\n",
              "      <td>Yemen</td>\n",
              "      <td>15.552727</td>\n",
              "      <td>48.516388</td>\n",
              "      <td>2021-04-20</td>\n",
              "      <td>5918</td>\n",
              "    </tr>\n",
              "    <tr>\n",
              "      <th>124668</th>\n",
              "      <td>NaN</td>\n",
              "      <td>Zambia</td>\n",
              "      <td>-13.133897</td>\n",
              "      <td>27.849332</td>\n",
              "      <td>2021-04-20</td>\n",
              "      <td>91042</td>\n",
              "    </tr>\n",
              "    <tr>\n",
              "      <th>124669</th>\n",
              "      <td>NaN</td>\n",
              "      <td>Zimbabwe</td>\n",
              "      <td>-19.015438</td>\n",
              "      <td>29.154857</td>\n",
              "      <td>2021-04-20</td>\n",
              "      <td>37875</td>\n",
              "    </tr>\n",
              "  </tbody>\n",
              "</table>\n",
              "</div>"
            ],
            "text/plain": [
              "       province             country        Lat        Long       date  infected\n",
              "124665      NaN             Vietnam  14.058324  108.277199 2021-04-20      2800\n",
              "124666      NaN  West Bank and Gaza  31.952200   35.233200 2021-04-20    284280\n",
              "124667      NaN               Yemen  15.552727   48.516388 2021-04-20      5918\n",
              "124668      NaN              Zambia -13.133897   27.849332 2021-04-20     91042\n",
              "124669      NaN            Zimbabwe -19.015438   29.154857 2021-04-20     37875"
            ]
          },
          "metadata": {
            "tags": []
          },
          "execution_count": 13
        }
      ]
    },
    {
      "cell_type": "code",
      "metadata": {
        "colab": {
          "base_uri": "https://localhost:8080/",
          "height": 204
        },
        "id": "uvAjTBCJS9sA",
        "outputId": "16010e9b-9ad6-4883-e0eb-9292a4fae8ef"
      },
      "source": [
        "dados_paises_covid_dead.tail()"
      ],
      "execution_count": null,
      "outputs": [
        {
          "output_type": "execute_result",
          "data": {
            "text/html": [
              "<div>\n",
              "<style scoped>\n",
              "    .dataframe tbody tr th:only-of-type {\n",
              "        vertical-align: middle;\n",
              "    }\n",
              "\n",
              "    .dataframe tbody tr th {\n",
              "        vertical-align: top;\n",
              "    }\n",
              "\n",
              "    .dataframe thead th {\n",
              "        text-align: right;\n",
              "    }\n",
              "</style>\n",
              "<table border=\"1\" class=\"dataframe\">\n",
              "  <thead>\n",
              "    <tr style=\"text-align: right;\">\n",
              "      <th></th>\n",
              "      <th>province</th>\n",
              "      <th>country</th>\n",
              "      <th>Lat</th>\n",
              "      <th>Long</th>\n",
              "      <th>date</th>\n",
              "      <th>dead</th>\n",
              "    </tr>\n",
              "  </thead>\n",
              "  <tbody>\n",
              "    <tr>\n",
              "      <th>124665</th>\n",
              "      <td>NaN</td>\n",
              "      <td>Vietnam</td>\n",
              "      <td>14.058324</td>\n",
              "      <td>108.277199</td>\n",
              "      <td>2021-04-20</td>\n",
              "      <td>35</td>\n",
              "    </tr>\n",
              "    <tr>\n",
              "      <th>124666</th>\n",
              "      <td>NaN</td>\n",
              "      <td>West Bank and Gaza</td>\n",
              "      <td>31.952200</td>\n",
              "      <td>35.233200</td>\n",
              "      <td>2021-04-20</td>\n",
              "      <td>3078</td>\n",
              "    </tr>\n",
              "    <tr>\n",
              "      <th>124667</th>\n",
              "      <td>NaN</td>\n",
              "      <td>Yemen</td>\n",
              "      <td>15.552727</td>\n",
              "      <td>48.516388</td>\n",
              "      <td>2021-04-20</td>\n",
              "      <td>1138</td>\n",
              "    </tr>\n",
              "    <tr>\n",
              "      <th>124668</th>\n",
              "      <td>NaN</td>\n",
              "      <td>Zambia</td>\n",
              "      <td>-13.133897</td>\n",
              "      <td>27.849332</td>\n",
              "      <td>2021-04-20</td>\n",
              "      <td>1236</td>\n",
              "    </tr>\n",
              "    <tr>\n",
              "      <th>124669</th>\n",
              "      <td>NaN</td>\n",
              "      <td>Zimbabwe</td>\n",
              "      <td>-19.015438</td>\n",
              "      <td>29.154857</td>\n",
              "      <td>2021-04-20</td>\n",
              "      <td>1554</td>\n",
              "    </tr>\n",
              "  </tbody>\n",
              "</table>\n",
              "</div>"
            ],
            "text/plain": [
              "       province             country        Lat        Long       date  dead\n",
              "124665      NaN             Vietnam  14.058324  108.277199 2021-04-20    35\n",
              "124666      NaN  West Bank and Gaza  31.952200   35.233200 2021-04-20  3078\n",
              "124667      NaN               Yemen  15.552727   48.516388 2021-04-20  1138\n",
              "124668      NaN              Zambia -13.133897   27.849332 2021-04-20  1236\n",
              "124669      NaN            Zimbabwe -19.015438   29.154857 2021-04-20  1554"
            ]
          },
          "metadata": {
            "tags": []
          },
          "execution_count": 14
        }
      ]
    },
    {
      "cell_type": "markdown",
      "metadata": {
        "id": "D16RNZgTS9wJ"
      },
      "source": [
        "- Combinar os datasets"
      ]
    },
    {
      "cell_type": "code",
      "metadata": {
        "colab": {
          "base_uri": "https://localhost:8080/"
        },
        "id": "f4zOkqqRXRd3",
        "outputId": "fef4da30-9524-44bc-cff1-e172accd2f31"
      },
      "source": [
        "dados_paises_covid.shape"
      ],
      "execution_count": null,
      "outputs": [
        {
          "output_type": "execute_result",
          "data": {
            "text/plain": [
              "(124670, 6)"
            ]
          },
          "metadata": {
            "tags": []
          },
          "execution_count": 15
        }
      ]
    },
    {
      "cell_type": "code",
      "metadata": {
        "colab": {
          "base_uri": "https://localhost:8080/"
        },
        "id": "X8OoawEVXRi7",
        "outputId": "6667560e-2f44-47b3-9e5a-6953914e791e"
      },
      "source": [
        "dados_paises_covid_dead.shape"
      ],
      "execution_count": null,
      "outputs": [
        {
          "output_type": "execute_result",
          "data": {
            "text/plain": [
              "(124670, 6)"
            ]
          },
          "metadata": {
            "tags": []
          },
          "execution_count": 16
        }
      ]
    },
    {
      "cell_type": "code",
      "metadata": {
        "id": "vMV2x0qJXRnA"
      },
      "source": [
        "dados_covid = pd.merge(dados_paises_covid, dados_paises_covid_dead, \n",
        "                       on = ['province', 'country',\t'Lat',\t'Long',\t'date'], \n",
        "                       how = 'inner')"
      ],
      "execution_count": null,
      "outputs": []
    },
    {
      "cell_type": "code",
      "metadata": {
        "colab": {
          "base_uri": "https://localhost:8080/",
          "height": 204
        },
        "id": "q3De0qHYXRrY",
        "outputId": "535037df-28db-4db1-aea7-7e0c991ede16"
      },
      "source": [
        "dados_covid.tail()"
      ],
      "execution_count": null,
      "outputs": [
        {
          "output_type": "execute_result",
          "data": {
            "text/html": [
              "<div>\n",
              "<style scoped>\n",
              "    .dataframe tbody tr th:only-of-type {\n",
              "        vertical-align: middle;\n",
              "    }\n",
              "\n",
              "    .dataframe tbody tr th {\n",
              "        vertical-align: top;\n",
              "    }\n",
              "\n",
              "    .dataframe thead th {\n",
              "        text-align: right;\n",
              "    }\n",
              "</style>\n",
              "<table border=\"1\" class=\"dataframe\">\n",
              "  <thead>\n",
              "    <tr style=\"text-align: right;\">\n",
              "      <th></th>\n",
              "      <th>province</th>\n",
              "      <th>country</th>\n",
              "      <th>Lat</th>\n",
              "      <th>Long</th>\n",
              "      <th>date</th>\n",
              "      <th>infected</th>\n",
              "      <th>dead</th>\n",
              "    </tr>\n",
              "  </thead>\n",
              "  <tbody>\n",
              "    <tr>\n",
              "      <th>124665</th>\n",
              "      <td>NaN</td>\n",
              "      <td>Vietnam</td>\n",
              "      <td>14.058324</td>\n",
              "      <td>108.277199</td>\n",
              "      <td>2021-04-20</td>\n",
              "      <td>2800</td>\n",
              "      <td>35</td>\n",
              "    </tr>\n",
              "    <tr>\n",
              "      <th>124666</th>\n",
              "      <td>NaN</td>\n",
              "      <td>West Bank and Gaza</td>\n",
              "      <td>31.952200</td>\n",
              "      <td>35.233200</td>\n",
              "      <td>2021-04-20</td>\n",
              "      <td>284280</td>\n",
              "      <td>3078</td>\n",
              "    </tr>\n",
              "    <tr>\n",
              "      <th>124667</th>\n",
              "      <td>NaN</td>\n",
              "      <td>Yemen</td>\n",
              "      <td>15.552727</td>\n",
              "      <td>48.516388</td>\n",
              "      <td>2021-04-20</td>\n",
              "      <td>5918</td>\n",
              "      <td>1138</td>\n",
              "    </tr>\n",
              "    <tr>\n",
              "      <th>124668</th>\n",
              "      <td>NaN</td>\n",
              "      <td>Zambia</td>\n",
              "      <td>-13.133897</td>\n",
              "      <td>27.849332</td>\n",
              "      <td>2021-04-20</td>\n",
              "      <td>91042</td>\n",
              "      <td>1236</td>\n",
              "    </tr>\n",
              "    <tr>\n",
              "      <th>124669</th>\n",
              "      <td>NaN</td>\n",
              "      <td>Zimbabwe</td>\n",
              "      <td>-19.015438</td>\n",
              "      <td>29.154857</td>\n",
              "      <td>2021-04-20</td>\n",
              "      <td>37875</td>\n",
              "      <td>1554</td>\n",
              "    </tr>\n",
              "  </tbody>\n",
              "</table>\n",
              "</div>"
            ],
            "text/plain": [
              "       province             country        Lat  ...       date infected  dead\n",
              "124665      NaN             Vietnam  14.058324  ... 2021-04-20     2800    35\n",
              "124666      NaN  West Bank and Gaza  31.952200  ... 2021-04-20   284280  3078\n",
              "124667      NaN               Yemen  15.552727  ... 2021-04-20     5918  1138\n",
              "124668      NaN              Zambia -13.133897  ... 2021-04-20    91042  1236\n",
              "124669      NaN            Zimbabwe -19.015438  ... 2021-04-20    37875  1554\n",
              "\n",
              "[5 rows x 7 columns]"
            ]
          },
          "metadata": {
            "tags": []
          },
          "execution_count": 18
        }
      ]
    },
    {
      "cell_type": "markdown",
      "metadata": {
        "id": "FYba1y-bXRvH"
      },
      "source": [
        "## Aqui começa o trabalho"
      ]
    },
    {
      "cell_type": "markdown",
      "metadata": {
        "id": "1tdr4RHQqyVZ"
      },
      "source": [
        "##Exercicio 1 - Quantos países existem no banco de dados?"
      ]
    },
    {
      "cell_type": "code",
      "metadata": {
        "id": "0djXeYlTS90U",
        "colab": {
          "base_uri": "https://localhost:8080/",
          "height": 419
        },
        "outputId": "5cfebc4d-461d-41f9-bf59-ecf702d227d0"
      },
      "source": [
        "#Filtrar pela data especificada\n",
        "filtro_data = dados_covid[dados_covid['date'] == '2021-03-27']\n",
        "filtro_data\n"
      ],
      "execution_count": null,
      "outputs": [
        {
          "output_type": "execute_result",
          "data": {
            "text/html": [
              "<div>\n",
              "<style scoped>\n",
              "    .dataframe tbody tr th:only-of-type {\n",
              "        vertical-align: middle;\n",
              "    }\n",
              "\n",
              "    .dataframe tbody tr th {\n",
              "        vertical-align: top;\n",
              "    }\n",
              "\n",
              "    .dataframe thead th {\n",
              "        text-align: right;\n",
              "    }\n",
              "</style>\n",
              "<table border=\"1\" class=\"dataframe\">\n",
              "  <thead>\n",
              "    <tr style=\"text-align: right;\">\n",
              "      <th></th>\n",
              "      <th>province</th>\n",
              "      <th>country</th>\n",
              "      <th>Lat</th>\n",
              "      <th>Long</th>\n",
              "      <th>date</th>\n",
              "      <th>infected</th>\n",
              "      <th>dead</th>\n",
              "    </tr>\n",
              "  </thead>\n",
              "  <tbody>\n",
              "    <tr>\n",
              "      <th>117820</th>\n",
              "      <td>NaN</td>\n",
              "      <td>Afghanistan</td>\n",
              "      <td>33.939110</td>\n",
              "      <td>67.709953</td>\n",
              "      <td>2021-03-27</td>\n",
              "      <td>56290</td>\n",
              "      <td>2469</td>\n",
              "    </tr>\n",
              "    <tr>\n",
              "      <th>117821</th>\n",
              "      <td>NaN</td>\n",
              "      <td>Albania</td>\n",
              "      <td>41.153300</td>\n",
              "      <td>20.168300</td>\n",
              "      <td>2021-03-27</td>\n",
              "      <td>123641</td>\n",
              "      <td>2204</td>\n",
              "    </tr>\n",
              "    <tr>\n",
              "      <th>117822</th>\n",
              "      <td>NaN</td>\n",
              "      <td>Algeria</td>\n",
              "      <td>28.033900</td>\n",
              "      <td>1.659600</td>\n",
              "      <td>2021-03-27</td>\n",
              "      <td>116750</td>\n",
              "      <td>3077</td>\n",
              "    </tr>\n",
              "    <tr>\n",
              "      <th>117823</th>\n",
              "      <td>NaN</td>\n",
              "      <td>Andorra</td>\n",
              "      <td>42.506300</td>\n",
              "      <td>1.521800</td>\n",
              "      <td>2021-03-27</td>\n",
              "      <td>11809</td>\n",
              "      <td>115</td>\n",
              "    </tr>\n",
              "    <tr>\n",
              "      <th>117824</th>\n",
              "      <td>NaN</td>\n",
              "      <td>Angola</td>\n",
              "      <td>-11.202700</td>\n",
              "      <td>17.873900</td>\n",
              "      <td>2021-03-27</td>\n",
              "      <td>22031</td>\n",
              "      <td>533</td>\n",
              "    </tr>\n",
              "    <tr>\n",
              "      <th>...</th>\n",
              "      <td>...</td>\n",
              "      <td>...</td>\n",
              "      <td>...</td>\n",
              "      <td>...</td>\n",
              "      <td>...</td>\n",
              "      <td>...</td>\n",
              "      <td>...</td>\n",
              "    </tr>\n",
              "    <tr>\n",
              "      <th>118089</th>\n",
              "      <td>NaN</td>\n",
              "      <td>Vietnam</td>\n",
              "      <td>14.058324</td>\n",
              "      <td>108.277199</td>\n",
              "      <td>2021-03-27</td>\n",
              "      <td>2586</td>\n",
              "      <td>35</td>\n",
              "    </tr>\n",
              "    <tr>\n",
              "      <th>118090</th>\n",
              "      <td>NaN</td>\n",
              "      <td>West Bank and Gaza</td>\n",
              "      <td>31.952200</td>\n",
              "      <td>35.233200</td>\n",
              "      <td>2021-03-27</td>\n",
              "      <td>234748</td>\n",
              "      <td>2557</td>\n",
              "    </tr>\n",
              "    <tr>\n",
              "      <th>118091</th>\n",
              "      <td>NaN</td>\n",
              "      <td>Yemen</td>\n",
              "      <td>15.552727</td>\n",
              "      <td>48.516388</td>\n",
              "      <td>2021-03-27</td>\n",
              "      <td>3969</td>\n",
              "      <td>832</td>\n",
              "    </tr>\n",
              "    <tr>\n",
              "      <th>118092</th>\n",
              "      <td>NaN</td>\n",
              "      <td>Zambia</td>\n",
              "      <td>-13.133897</td>\n",
              "      <td>27.849332</td>\n",
              "      <td>2021-03-27</td>\n",
              "      <td>87583</td>\n",
              "      <td>1198</td>\n",
              "    </tr>\n",
              "    <tr>\n",
              "      <th>118093</th>\n",
              "      <td>NaN</td>\n",
              "      <td>Zimbabwe</td>\n",
              "      <td>-19.015438</td>\n",
              "      <td>29.154857</td>\n",
              "      <td>2021-03-27</td>\n",
              "      <td>36818</td>\n",
              "      <td>1519</td>\n",
              "    </tr>\n",
              "  </tbody>\n",
              "</table>\n",
              "<p>274 rows × 7 columns</p>\n",
              "</div>"
            ],
            "text/plain": [
              "       province             country        Lat  ...       date infected  dead\n",
              "117820      NaN         Afghanistan  33.939110  ... 2021-03-27    56290  2469\n",
              "117821      NaN             Albania  41.153300  ... 2021-03-27   123641  2204\n",
              "117822      NaN             Algeria  28.033900  ... 2021-03-27   116750  3077\n",
              "117823      NaN             Andorra  42.506300  ... 2021-03-27    11809   115\n",
              "117824      NaN              Angola -11.202700  ... 2021-03-27    22031   533\n",
              "...         ...                 ...        ...  ...        ...      ...   ...\n",
              "118089      NaN             Vietnam  14.058324  ... 2021-03-27     2586    35\n",
              "118090      NaN  West Bank and Gaza  31.952200  ... 2021-03-27   234748  2557\n",
              "118091      NaN               Yemen  15.552727  ... 2021-03-27     3969   832\n",
              "118092      NaN              Zambia -13.133897  ... 2021-03-27    87583  1198\n",
              "118093      NaN            Zimbabwe -19.015438  ... 2021-03-27    36818  1519\n",
              "\n",
              "[274 rows x 7 columns]"
            ]
          },
          "metadata": {
            "tags": []
          },
          "execution_count": 19
        }
      ]
    },
    {
      "cell_type": "code",
      "metadata": {
        "id": "Czl-tG7vTgr5"
      },
      "source": [],
      "execution_count": null,
      "outputs": []
    },
    {
      "cell_type": "code",
      "metadata": {
        "colab": {
          "base_uri": "https://localhost:8080/",
          "height": 419
        },
        "id": "99GivqUvomPD",
        "outputId": "ea9ef3ce-947a-4a71-d712-cb8057d4096a"
      },
      "source": [
        "num_paises = filtro_data.groupby('country').agg(mortes = pd.NamedAgg(column = 'dead',\n",
        "                                                                     aggfunc = np.sum),\n",
        "                                                infectados = pd.NamedAgg(column = 'infected',\n",
        "                                                                         aggfunc = np.sum),) \\\n",
        "                                                                         .sort_values('mortes').reset_index()\n",
        "num_paises"
      ],
      "execution_count": null,
      "outputs": [
        {
          "output_type": "execute_result",
          "data": {
            "text/html": [
              "<div>\n",
              "<style scoped>\n",
              "    .dataframe tbody tr th:only-of-type {\n",
              "        vertical-align: middle;\n",
              "    }\n",
              "\n",
              "    .dataframe tbody tr th {\n",
              "        vertical-align: top;\n",
              "    }\n",
              "\n",
              "    .dataframe thead th {\n",
              "        text-align: right;\n",
              "    }\n",
              "</style>\n",
              "<table border=\"1\" class=\"dataframe\">\n",
              "  <thead>\n",
              "    <tr style=\"text-align: right;\">\n",
              "      <th></th>\n",
              "      <th>country</th>\n",
              "      <th>mortes</th>\n",
              "      <th>infectados</th>\n",
              "    </tr>\n",
              "  </thead>\n",
              "  <tbody>\n",
              "    <tr>\n",
              "      <th>0</th>\n",
              "      <td>Laos</td>\n",
              "      <td>0</td>\n",
              "      <td>49</td>\n",
              "    </tr>\n",
              "    <tr>\n",
              "      <th>1</th>\n",
              "      <td>Saint Kitts and Nevis</td>\n",
              "      <td>0</td>\n",
              "      <td>44</td>\n",
              "    </tr>\n",
              "    <tr>\n",
              "      <th>2</th>\n",
              "      <td>Micronesia</td>\n",
              "      <td>0</td>\n",
              "      <td>1</td>\n",
              "    </tr>\n",
              "    <tr>\n",
              "      <th>3</th>\n",
              "      <td>Samoa</td>\n",
              "      <td>0</td>\n",
              "      <td>3</td>\n",
              "    </tr>\n",
              "    <tr>\n",
              "      <th>4</th>\n",
              "      <td>Vanuatu</td>\n",
              "      <td>0</td>\n",
              "      <td>3</td>\n",
              "    </tr>\n",
              "    <tr>\n",
              "      <th>...</th>\n",
              "      <td>...</td>\n",
              "      <td>...</td>\n",
              "      <td>...</td>\n",
              "    </tr>\n",
              "    <tr>\n",
              "      <th>187</th>\n",
              "      <td>United Kingdom</td>\n",
              "      <td>126813</td>\n",
              "      <td>4343066</td>\n",
              "    </tr>\n",
              "    <tr>\n",
              "      <th>188</th>\n",
              "      <td>India</td>\n",
              "      <td>161552</td>\n",
              "      <td>11971624</td>\n",
              "    </tr>\n",
              "    <tr>\n",
              "      <th>189</th>\n",
              "      <td>Mexico</td>\n",
              "      <td>201429</td>\n",
              "      <td>2224904</td>\n",
              "    </tr>\n",
              "    <tr>\n",
              "      <th>190</th>\n",
              "      <td>Brazil</td>\n",
              "      <td>310550</td>\n",
              "      <td>12490362</td>\n",
              "    </tr>\n",
              "    <tr>\n",
              "      <th>191</th>\n",
              "      <td>US</td>\n",
              "      <td>549212</td>\n",
              "      <td>30221396</td>\n",
              "    </tr>\n",
              "  </tbody>\n",
              "</table>\n",
              "<p>192 rows × 3 columns</p>\n",
              "</div>"
            ],
            "text/plain": [
              "                   country  mortes  infectados\n",
              "0                     Laos       0          49\n",
              "1    Saint Kitts and Nevis       0          44\n",
              "2               Micronesia       0           1\n",
              "3                    Samoa       0           3\n",
              "4                  Vanuatu       0           3\n",
              "..                     ...     ...         ...\n",
              "187         United Kingdom  126813     4343066\n",
              "188                  India  161552    11971624\n",
              "189                 Mexico  201429     2224904\n",
              "190                 Brazil  310550    12490362\n",
              "191                     US  549212    30221396\n",
              "\n",
              "[192 rows x 3 columns]"
            ]
          },
          "metadata": {
            "tags": []
          },
          "execution_count": 20
        }
      ]
    },
    {
      "cell_type": "markdown",
      "metadata": {
        "id": "ErP5WcuUq-2Y"
      },
      "source": [
        "##Exercicio 2 - Quantos casos de infectados e mortes Brasil, Itália e E.U.A. possuem até o momento?"
      ]
    },
    {
      "cell_type": "code",
      "metadata": {
        "colab": {
          "base_uri": "https://localhost:8080/",
          "height": 419
        },
        "id": "_v2NiIddnJ9F",
        "outputId": "624cc4ac-db82-4ca5-f749-107ad11635bc"
      },
      "source": [
        "#Filtro colunas \n",
        "dados_country_infected_dead = dados_covid[['country', 'infected', 'dead', 'date']]\n",
        "dados_country_infected_dead"
      ],
      "execution_count": null,
      "outputs": [
        {
          "output_type": "execute_result",
          "data": {
            "text/html": [
              "<div>\n",
              "<style scoped>\n",
              "    .dataframe tbody tr th:only-of-type {\n",
              "        vertical-align: middle;\n",
              "    }\n",
              "\n",
              "    .dataframe tbody tr th {\n",
              "        vertical-align: top;\n",
              "    }\n",
              "\n",
              "    .dataframe thead th {\n",
              "        text-align: right;\n",
              "    }\n",
              "</style>\n",
              "<table border=\"1\" class=\"dataframe\">\n",
              "  <thead>\n",
              "    <tr style=\"text-align: right;\">\n",
              "      <th></th>\n",
              "      <th>country</th>\n",
              "      <th>infected</th>\n",
              "      <th>dead</th>\n",
              "      <th>date</th>\n",
              "    </tr>\n",
              "  </thead>\n",
              "  <tbody>\n",
              "    <tr>\n",
              "      <th>0</th>\n",
              "      <td>Afghanistan</td>\n",
              "      <td>0</td>\n",
              "      <td>0</td>\n",
              "      <td>2020-01-22</td>\n",
              "    </tr>\n",
              "    <tr>\n",
              "      <th>1</th>\n",
              "      <td>Albania</td>\n",
              "      <td>0</td>\n",
              "      <td>0</td>\n",
              "      <td>2020-01-22</td>\n",
              "    </tr>\n",
              "    <tr>\n",
              "      <th>2</th>\n",
              "      <td>Algeria</td>\n",
              "      <td>0</td>\n",
              "      <td>0</td>\n",
              "      <td>2020-01-22</td>\n",
              "    </tr>\n",
              "    <tr>\n",
              "      <th>3</th>\n",
              "      <td>Andorra</td>\n",
              "      <td>0</td>\n",
              "      <td>0</td>\n",
              "      <td>2020-01-22</td>\n",
              "    </tr>\n",
              "    <tr>\n",
              "      <th>4</th>\n",
              "      <td>Angola</td>\n",
              "      <td>0</td>\n",
              "      <td>0</td>\n",
              "      <td>2020-01-22</td>\n",
              "    </tr>\n",
              "    <tr>\n",
              "      <th>...</th>\n",
              "      <td>...</td>\n",
              "      <td>...</td>\n",
              "      <td>...</td>\n",
              "      <td>...</td>\n",
              "    </tr>\n",
              "    <tr>\n",
              "      <th>124665</th>\n",
              "      <td>Vietnam</td>\n",
              "      <td>2800</td>\n",
              "      <td>35</td>\n",
              "      <td>2021-04-20</td>\n",
              "    </tr>\n",
              "    <tr>\n",
              "      <th>124666</th>\n",
              "      <td>West Bank and Gaza</td>\n",
              "      <td>284280</td>\n",
              "      <td>3078</td>\n",
              "      <td>2021-04-20</td>\n",
              "    </tr>\n",
              "    <tr>\n",
              "      <th>124667</th>\n",
              "      <td>Yemen</td>\n",
              "      <td>5918</td>\n",
              "      <td>1138</td>\n",
              "      <td>2021-04-20</td>\n",
              "    </tr>\n",
              "    <tr>\n",
              "      <th>124668</th>\n",
              "      <td>Zambia</td>\n",
              "      <td>91042</td>\n",
              "      <td>1236</td>\n",
              "      <td>2021-04-20</td>\n",
              "    </tr>\n",
              "    <tr>\n",
              "      <th>124669</th>\n",
              "      <td>Zimbabwe</td>\n",
              "      <td>37875</td>\n",
              "      <td>1554</td>\n",
              "      <td>2021-04-20</td>\n",
              "    </tr>\n",
              "  </tbody>\n",
              "</table>\n",
              "<p>124670 rows × 4 columns</p>\n",
              "</div>"
            ],
            "text/plain": [
              "                   country  infected  dead       date\n",
              "0              Afghanistan         0     0 2020-01-22\n",
              "1                  Albania         0     0 2020-01-22\n",
              "2                  Algeria         0     0 2020-01-22\n",
              "3                  Andorra         0     0 2020-01-22\n",
              "4                   Angola         0     0 2020-01-22\n",
              "...                    ...       ...   ...        ...\n",
              "124665             Vietnam      2800    35 2021-04-20\n",
              "124666  West Bank and Gaza    284280  3078 2021-04-20\n",
              "124667               Yemen      5918  1138 2021-04-20\n",
              "124668              Zambia     91042  1236 2021-04-20\n",
              "124669            Zimbabwe     37875  1554 2021-04-20\n",
              "\n",
              "[124670 rows x 4 columns]"
            ]
          },
          "metadata": {
            "tags": []
          },
          "execution_count": 22
        }
      ]
    },
    {
      "cell_type": "code",
      "metadata": {
        "colab": {
          "base_uri": "https://localhost:8080/",
          "height": 80
        },
        "id": "qIR2BH2vqdUk",
        "outputId": "4a9461ba-8d0d-4132-e015-c5c388aceecb"
      },
      "source": [
        "#Filtro linha País - Lembrar se for str colocar aspas simples antes '\n",
        "filtro_Br = dados_country_infected_dead [dados_country_infected_dead['country'] == 'Brazil']\n",
        "filtro_Br\n",
        "  \n",
        "#Filtro linha data 2021-03-22 para identificar mortos e infectados\n",
        "infec_Br_date = filtro_Br [filtro_Br['date'] == '2021-03-27' ]\n",
        "infec_Br_date"
      ],
      "execution_count": null,
      "outputs": [
        {
          "output_type": "execute_result",
          "data": {
            "text/html": [
              "<div>\n",
              "<style scoped>\n",
              "    .dataframe tbody tr th:only-of-type {\n",
              "        vertical-align: middle;\n",
              "    }\n",
              "\n",
              "    .dataframe tbody tr th {\n",
              "        vertical-align: top;\n",
              "    }\n",
              "\n",
              "    .dataframe thead th {\n",
              "        text-align: right;\n",
              "    }\n",
              "</style>\n",
              "<table border=\"1\" class=\"dataframe\">\n",
              "  <thead>\n",
              "    <tr style=\"text-align: right;\">\n",
              "      <th></th>\n",
              "      <th>country</th>\n",
              "      <th>infected</th>\n",
              "      <th>dead</th>\n",
              "      <th>date</th>\n",
              "    </tr>\n",
              "  </thead>\n",
              "  <tbody>\n",
              "    <tr>\n",
              "      <th>117850</th>\n",
              "      <td>Brazil</td>\n",
              "      <td>12490362</td>\n",
              "      <td>310550</td>\n",
              "      <td>2021-03-27</td>\n",
              "    </tr>\n",
              "  </tbody>\n",
              "</table>\n",
              "</div>"
            ],
            "text/plain": [
              "       country  infected    dead       date\n",
              "117850  Brazil  12490362  310550 2021-03-27"
            ]
          },
          "metadata": {
            "tags": []
          },
          "execution_count": 23
        }
      ]
    },
    {
      "cell_type": "code",
      "metadata": {
        "id": "sXBcyhXAbsTY",
        "colab": {
          "base_uri": "https://localhost:8080/"
        },
        "outputId": "e10290b4-a651-46be-c3fc-08ce5edbd49e"
      },
      "source": [
        "filtro_Br"
      ],
      "execution_count": null,
      "outputs": [
        {
          "output_type": "execute_result",
          "data": {
            "text/html": [
              "<div>\n",
              "<style scoped>\n",
              "    .dataframe tbody tr th:only-of-type {\n",
              "        vertical-align: middle;\n",
              "    }\n",
              "\n",
              "    .dataframe tbody tr th {\n",
              "        vertical-align: top;\n",
              "    }\n",
              "\n",
              "    .dataframe thead th {\n",
              "        text-align: right;\n",
              "    }\n",
              "</style>\n",
              "<table border=\"1\" class=\"dataframe\">\n",
              "  <thead>\n",
              "    <tr style=\"text-align: right;\">\n",
              "      <th></th>\n",
              "      <th>country</th>\n",
              "      <th>infected</th>\n",
              "      <th>dead</th>\n",
              "      <th>date</th>\n",
              "    </tr>\n",
              "  </thead>\n",
              "  <tbody>\n",
              "    <tr>\n",
              "      <th>30</th>\n",
              "      <td>Brazil</td>\n",
              "      <td>0</td>\n",
              "      <td>0</td>\n",
              "      <td>2020-01-22</td>\n",
              "    </tr>\n",
              "    <tr>\n",
              "      <th>304</th>\n",
              "      <td>Brazil</td>\n",
              "      <td>0</td>\n",
              "      <td>0</td>\n",
              "      <td>2020-01-23</td>\n",
              "    </tr>\n",
              "    <tr>\n",
              "      <th>578</th>\n",
              "      <td>Brazil</td>\n",
              "      <td>0</td>\n",
              "      <td>0</td>\n",
              "      <td>2020-01-24</td>\n",
              "    </tr>\n",
              "    <tr>\n",
              "      <th>852</th>\n",
              "      <td>Brazil</td>\n",
              "      <td>0</td>\n",
              "      <td>0</td>\n",
              "      <td>2020-01-25</td>\n",
              "    </tr>\n",
              "    <tr>\n",
              "      <th>1126</th>\n",
              "      <td>Brazil</td>\n",
              "      <td>0</td>\n",
              "      <td>0</td>\n",
              "      <td>2020-01-26</td>\n",
              "    </tr>\n",
              "    <tr>\n",
              "      <th>...</th>\n",
              "      <td>...</td>\n",
              "      <td>...</td>\n",
              "      <td>...</td>\n",
              "      <td>...</td>\n",
              "    </tr>\n",
              "    <tr>\n",
              "      <th>121138</th>\n",
              "      <td>Brazil</td>\n",
              "      <td>13279857</td>\n",
              "      <td>345025</td>\n",
              "      <td>2021-04-08</td>\n",
              "    </tr>\n",
              "    <tr>\n",
              "      <th>121412</th>\n",
              "      <td>Brazil</td>\n",
              "      <td>13373174</td>\n",
              "      <td>348718</td>\n",
              "      <td>2021-04-09</td>\n",
              "    </tr>\n",
              "    <tr>\n",
              "      <th>121686</th>\n",
              "      <td>Brazil</td>\n",
              "      <td>13445006</td>\n",
              "      <td>351334</td>\n",
              "      <td>2021-04-10</td>\n",
              "    </tr>\n",
              "    <tr>\n",
              "      <th>121960</th>\n",
              "      <td>Brazil</td>\n",
              "      <td>13482023</td>\n",
              "      <td>353137</td>\n",
              "      <td>2021-04-11</td>\n",
              "    </tr>\n",
              "    <tr>\n",
              "      <th>122234</th>\n",
              "      <td>Brazil</td>\n",
              "      <td>13517808</td>\n",
              "      <td>354617</td>\n",
              "      <td>2021-04-12</td>\n",
              "    </tr>\n",
              "  </tbody>\n",
              "</table>\n",
              "<p>447 rows × 4 columns</p>\n",
              "</div>"
            ],
            "text/plain": [
              "       country  infected    dead       date\n",
              "30      Brazil         0       0 2020-01-22\n",
              "304     Brazil         0       0 2020-01-23\n",
              "578     Brazil         0       0 2020-01-24\n",
              "852     Brazil         0       0 2020-01-25\n",
              "1126    Brazil         0       0 2020-01-26\n",
              "...        ...       ...     ...        ...\n",
              "121138  Brazil  13279857  345025 2021-04-08\n",
              "121412  Brazil  13373174  348718 2021-04-09\n",
              "121686  Brazil  13445006  351334 2021-04-10\n",
              "121960  Brazil  13482023  353137 2021-04-11\n",
              "122234  Brazil  13517808  354617 2021-04-12\n",
              "\n",
              "[447 rows x 4 columns]"
            ]
          },
          "metadata": {
            "tags": []
          },
          "execution_count": 24
        }
      ]
    },
    {
      "cell_type": "code",
      "metadata": {
        "colab": {
          "base_uri": "https://localhost:8080/"
        },
        "id": "FFOrNSw6qdcK",
        "outputId": "5273d2fd-74e1-4d2f-c2a5-91640cc7916f"
      },
      "source": [
        "#Filtro linha País - Lembrar se for str colocar aspas simples antes '\n",
        "filtro_us = dados_country_infected_dead [dados_country_infected_dead['country'] == 'US']\n",
        "filtro_us\n",
        "\n",
        "#Filtro linha data 2021-03-22 para identificar mortos e infectados\n",
        "infec_us_date = filtro_us [filtro_us['date'] == '2021-03-27' ]\n",
        "infec_us_date"
      ],
      "execution_count": null,
      "outputs": [
        {
          "output_type": "execute_result",
          "data": {
            "text/html": [
              "<div>\n",
              "<style scoped>\n",
              "    .dataframe tbody tr th:only-of-type {\n",
              "        vertical-align: middle;\n",
              "    }\n",
              "\n",
              "    .dataframe tbody tr th {\n",
              "        vertical-align: top;\n",
              "    }\n",
              "\n",
              "    .dataframe thead th {\n",
              "        text-align: right;\n",
              "    }\n",
              "</style>\n",
              "<table border=\"1\" class=\"dataframe\">\n",
              "  <thead>\n",
              "    <tr style=\"text-align: right;\">\n",
              "      <th></th>\n",
              "      <th>country</th>\n",
              "      <th>infected</th>\n",
              "      <th>dead</th>\n",
              "      <th>date</th>\n",
              "    </tr>\n",
              "  </thead>\n",
              "  <tbody>\n",
              "    <tr>\n",
              "      <th>118069</th>\n",
              "      <td>US</td>\n",
              "      <td>30220061</td>\n",
              "      <td>549103</td>\n",
              "      <td>2021-03-27</td>\n",
              "    </tr>\n",
              "  </tbody>\n",
              "</table>\n",
              "</div>"
            ],
            "text/plain": [
              "       country  infected    dead       date\n",
              "118069      US  30220061  549103 2021-03-27"
            ]
          },
          "metadata": {
            "tags": []
          },
          "execution_count": 25
        }
      ]
    },
    {
      "cell_type": "code",
      "metadata": {
        "colab": {
          "base_uri": "https://localhost:8080/"
        },
        "id": "zKa3ROjmqdiK",
        "outputId": "bd717a77-2bb7-4180-a21a-6b8ec753873a"
      },
      "source": [
        "#Filtro linha País - Lembrar se for str colocar aspas simples antes '\n",
        "filtro_it = dados_country_infected_dead [dados_country_infected_dead['country'] == 'Italy']\n",
        "filtro_it\n",
        "\n",
        "#Filtro linha data 2021-03-22 para identificar mortos e infectados\n",
        "infec_it_date = filtro_it [filtro_it['date'] == '2021-03-27' ] \n",
        "infec_it_date"
      ],
      "execution_count": null,
      "outputs": [
        {
          "output_type": "execute_result",
          "data": {
            "text/html": [
              "<div>\n",
              "<style scoped>\n",
              "    .dataframe tbody tr th:only-of-type {\n",
              "        vertical-align: middle;\n",
              "    }\n",
              "\n",
              "    .dataframe tbody tr th {\n",
              "        vertical-align: top;\n",
              "    }\n",
              "\n",
              "    .dataframe thead th {\n",
              "        text-align: right;\n",
              "    }\n",
              "</style>\n",
              "<table border=\"1\" class=\"dataframe\">\n",
              "  <thead>\n",
              "    <tr style=\"text-align: right;\">\n",
              "      <th></th>\n",
              "      <th>country</th>\n",
              "      <th>infected</th>\n",
              "      <th>dead</th>\n",
              "      <th>date</th>\n",
              "    </tr>\n",
              "  </thead>\n",
              "  <tbody>\n",
              "    <tr>\n",
              "      <th>117972</th>\n",
              "      <td>Italy</td>\n",
              "      <td>3512453</td>\n",
              "      <td>107636</td>\n",
              "      <td>2021-03-27</td>\n",
              "    </tr>\n",
              "  </tbody>\n",
              "</table>\n",
              "</div>"
            ],
            "text/plain": [
              "       country  infected    dead       date\n",
              "117972   Italy   3512453  107636 2021-03-27"
            ]
          },
          "metadata": {
            "tags": []
          },
          "execution_count": 26
        }
      ]
    },
    {
      "cell_type": "code",
      "metadata": {
        "id": "hHHSezYCrGjG"
      },
      "source": [],
      "execution_count": null,
      "outputs": []
    },
    {
      "cell_type": "markdown",
      "metadata": {
        "id": "l2qK2MIvlm1M"
      },
      "source": [
        "##Exercicio 3 - Quais os 10 países que possuem os maiores valores de infectados? E quais os 10 de maiores mortes?"
      ]
    },
    {
      "cell_type": "code",
      "metadata": {
        "colab": {
          "base_uri": "https://localhost:8080/",
          "height": 359
        },
        "id": "DhZ8T_Cflm7E",
        "outputId": "4fc6a98e-2f9a-466c-d935-f6223189db67"
      },
      "source": [
        "num_paises.sort_values('infectados', ascending = False).reset_index(drop = True).head(10)"
      ],
      "execution_count": null,
      "outputs": [
        {
          "output_type": "execute_result",
          "data": {
            "text/html": [
              "<div>\n",
              "<style scoped>\n",
              "    .dataframe tbody tr th:only-of-type {\n",
              "        vertical-align: middle;\n",
              "    }\n",
              "\n",
              "    .dataframe tbody tr th {\n",
              "        vertical-align: top;\n",
              "    }\n",
              "\n",
              "    .dataframe thead th {\n",
              "        text-align: right;\n",
              "    }\n",
              "</style>\n",
              "<table border=\"1\" class=\"dataframe\">\n",
              "  <thead>\n",
              "    <tr style=\"text-align: right;\">\n",
              "      <th></th>\n",
              "      <th>country</th>\n",
              "      <th>mortes</th>\n",
              "      <th>infectados</th>\n",
              "    </tr>\n",
              "  </thead>\n",
              "  <tbody>\n",
              "    <tr>\n",
              "      <th>0</th>\n",
              "      <td>US</td>\n",
              "      <td>549212</td>\n",
              "      <td>30221396</td>\n",
              "    </tr>\n",
              "    <tr>\n",
              "      <th>1</th>\n",
              "      <td>Brazil</td>\n",
              "      <td>310550</td>\n",
              "      <td>12490362</td>\n",
              "    </tr>\n",
              "    <tr>\n",
              "      <th>2</th>\n",
              "      <td>India</td>\n",
              "      <td>161552</td>\n",
              "      <td>11971624</td>\n",
              "    </tr>\n",
              "    <tr>\n",
              "      <th>3</th>\n",
              "      <td>France</td>\n",
              "      <td>94623</td>\n",
              "      <td>4569164</td>\n",
              "    </tr>\n",
              "    <tr>\n",
              "      <th>4</th>\n",
              "      <td>Russia</td>\n",
              "      <td>95792</td>\n",
              "      <td>4460348</td>\n",
              "    </tr>\n",
              "    <tr>\n",
              "      <th>5</th>\n",
              "      <td>United Kingdom</td>\n",
              "      <td>126813</td>\n",
              "      <td>4343066</td>\n",
              "    </tr>\n",
              "    <tr>\n",
              "      <th>6</th>\n",
              "      <td>Italy</td>\n",
              "      <td>107636</td>\n",
              "      <td>3512453</td>\n",
              "    </tr>\n",
              "    <tr>\n",
              "      <th>7</th>\n",
              "      <td>Spain</td>\n",
              "      <td>75010</td>\n",
              "      <td>3255324</td>\n",
              "    </tr>\n",
              "    <tr>\n",
              "      <th>8</th>\n",
              "      <td>Turkey</td>\n",
              "      <td>30923</td>\n",
              "      <td>3179115</td>\n",
              "    </tr>\n",
              "    <tr>\n",
              "      <th>9</th>\n",
              "      <td>Germany</td>\n",
              "      <td>75915</td>\n",
              "      <td>2782925</td>\n",
              "    </tr>\n",
              "  </tbody>\n",
              "</table>\n",
              "</div>"
            ],
            "text/plain": [
              "          country  mortes  infectados\n",
              "0              US  549212    30221396\n",
              "1          Brazil  310550    12490362\n",
              "2           India  161552    11971624\n",
              "3          France   94623     4569164\n",
              "4          Russia   95792     4460348\n",
              "5  United Kingdom  126813     4343066\n",
              "6           Italy  107636     3512453\n",
              "7           Spain   75010     3255324\n",
              "8          Turkey   30923     3179115\n",
              "9         Germany   75915     2782925"
            ]
          },
          "metadata": {
            "tags": []
          },
          "execution_count": 24
        }
      ]
    },
    {
      "cell_type": "code",
      "metadata": {
        "colab": {
          "base_uri": "https://localhost:8080/"
        },
        "id": "flMV0YS6zIUK",
        "outputId": "afbcd89b-1d48-4b7a-baae-b2e93eb27d3b"
      },
      "source": [
        "num_paises.sort_values('mortes', ascending = False).reset_index(drop = True).head(10)"
      ],
      "execution_count": null,
      "outputs": [
        {
          "output_type": "execute_result",
          "data": {
            "text/html": [
              "<div>\n",
              "<style scoped>\n",
              "    .dataframe tbody tr th:only-of-type {\n",
              "        vertical-align: middle;\n",
              "    }\n",
              "\n",
              "    .dataframe tbody tr th {\n",
              "        vertical-align: top;\n",
              "    }\n",
              "\n",
              "    .dataframe thead th {\n",
              "        text-align: right;\n",
              "    }\n",
              "</style>\n",
              "<table border=\"1\" class=\"dataframe\">\n",
              "  <thead>\n",
              "    <tr style=\"text-align: right;\">\n",
              "      <th></th>\n",
              "      <th>country</th>\n",
              "      <th>mortes</th>\n",
              "      <th>infectados</th>\n",
              "    </tr>\n",
              "  </thead>\n",
              "  <tbody>\n",
              "    <tr>\n",
              "      <th>0</th>\n",
              "      <td>US</td>\n",
              "      <td>549103</td>\n",
              "      <td>30220061</td>\n",
              "    </tr>\n",
              "    <tr>\n",
              "      <th>1</th>\n",
              "      <td>Brazil</td>\n",
              "      <td>310550</td>\n",
              "      <td>12490362</td>\n",
              "    </tr>\n",
              "    <tr>\n",
              "      <th>2</th>\n",
              "      <td>Mexico</td>\n",
              "      <td>201429</td>\n",
              "      <td>2224904</td>\n",
              "    </tr>\n",
              "    <tr>\n",
              "      <th>3</th>\n",
              "      <td>India</td>\n",
              "      <td>161552</td>\n",
              "      <td>11971624</td>\n",
              "    </tr>\n",
              "    <tr>\n",
              "      <th>4</th>\n",
              "      <td>United Kingdom</td>\n",
              "      <td>126813</td>\n",
              "      <td>4343066</td>\n",
              "    </tr>\n",
              "    <tr>\n",
              "      <th>5</th>\n",
              "      <td>Italy</td>\n",
              "      <td>107636</td>\n",
              "      <td>3512453</td>\n",
              "    </tr>\n",
              "    <tr>\n",
              "      <th>6</th>\n",
              "      <td>Russia</td>\n",
              "      <td>95792</td>\n",
              "      <td>4460348</td>\n",
              "    </tr>\n",
              "    <tr>\n",
              "      <th>7</th>\n",
              "      <td>France</td>\n",
              "      <td>94623</td>\n",
              "      <td>4569164</td>\n",
              "    </tr>\n",
              "    <tr>\n",
              "      <th>8</th>\n",
              "      <td>Germany</td>\n",
              "      <td>75915</td>\n",
              "      <td>2782925</td>\n",
              "    </tr>\n",
              "    <tr>\n",
              "      <th>9</th>\n",
              "      <td>Spain</td>\n",
              "      <td>75010</td>\n",
              "      <td>3255324</td>\n",
              "    </tr>\n",
              "  </tbody>\n",
              "</table>\n",
              "</div>"
            ],
            "text/plain": [
              "          country  mortes  infectados\n",
              "0              US  549103    30220061\n",
              "1          Brazil  310550    12490362\n",
              "2          Mexico  201429     2224904\n",
              "3           India  161552    11971624\n",
              "4  United Kingdom  126813     4343066\n",
              "5           Italy  107636     3512453\n",
              "6          Russia   95792     4460348\n",
              "7          France   94623     4569164\n",
              "8         Germany   75915     2782925\n",
              "9           Spain   75010     3255324"
            ]
          },
          "metadata": {
            "tags": []
          },
          "execution_count": 28
        }
      ]
    },
    {
      "cell_type": "markdown",
      "metadata": {
        "id": "VpSHmDbllnAa"
      },
      "source": [
        "##Exercicio 4 - Criar uma coluna denominada taxa de mortalidade (mortos/infectados). Quais os 10 países que  possuem  maiores  valores  desta  taxa?Você  acredita  que  a  taxa  de  mortalidade  uma  boa métrica? Quais vieses você conseguiu perceber?"
      ]
    },
    {
      "cell_type": "code",
      "metadata": {
        "colab": {
          "base_uri": "https://localhost:8080/",
          "height": 419
        },
        "id": "PK6FBkIPlzY0",
        "outputId": "cd99215d-3983-46ae-f2ca-646e220ab06c"
      },
      "source": [
        "num_paises ['taxa_de_mortalidade'] = num_paises['mortes'] / num_paises['infectados']\n",
        "num_paises"
      ],
      "execution_count": null,
      "outputs": [
        {
          "output_type": "execute_result",
          "data": {
            "text/html": [
              "<div>\n",
              "<style scoped>\n",
              "    .dataframe tbody tr th:only-of-type {\n",
              "        vertical-align: middle;\n",
              "    }\n",
              "\n",
              "    .dataframe tbody tr th {\n",
              "        vertical-align: top;\n",
              "    }\n",
              "\n",
              "    .dataframe thead th {\n",
              "        text-align: right;\n",
              "    }\n",
              "</style>\n",
              "<table border=\"1\" class=\"dataframe\">\n",
              "  <thead>\n",
              "    <tr style=\"text-align: right;\">\n",
              "      <th></th>\n",
              "      <th>country</th>\n",
              "      <th>mortes</th>\n",
              "      <th>infectados</th>\n",
              "      <th>taxa_de_mortalidade</th>\n",
              "    </tr>\n",
              "  </thead>\n",
              "  <tbody>\n",
              "    <tr>\n",
              "      <th>0</th>\n",
              "      <td>Laos</td>\n",
              "      <td>0</td>\n",
              "      <td>49</td>\n",
              "      <td>0.000000</td>\n",
              "    </tr>\n",
              "    <tr>\n",
              "      <th>1</th>\n",
              "      <td>Saint Kitts and Nevis</td>\n",
              "      <td>0</td>\n",
              "      <td>44</td>\n",
              "      <td>0.000000</td>\n",
              "    </tr>\n",
              "    <tr>\n",
              "      <th>2</th>\n",
              "      <td>Micronesia</td>\n",
              "      <td>0</td>\n",
              "      <td>1</td>\n",
              "      <td>0.000000</td>\n",
              "    </tr>\n",
              "    <tr>\n",
              "      <th>3</th>\n",
              "      <td>Samoa</td>\n",
              "      <td>0</td>\n",
              "      <td>3</td>\n",
              "      <td>0.000000</td>\n",
              "    </tr>\n",
              "    <tr>\n",
              "      <th>4</th>\n",
              "      <td>Vanuatu</td>\n",
              "      <td>0</td>\n",
              "      <td>3</td>\n",
              "      <td>0.000000</td>\n",
              "    </tr>\n",
              "    <tr>\n",
              "      <th>...</th>\n",
              "      <td>...</td>\n",
              "      <td>...</td>\n",
              "      <td>...</td>\n",
              "      <td>...</td>\n",
              "    </tr>\n",
              "    <tr>\n",
              "      <th>187</th>\n",
              "      <td>United Kingdom</td>\n",
              "      <td>126813</td>\n",
              "      <td>4343066</td>\n",
              "      <td>0.029199</td>\n",
              "    </tr>\n",
              "    <tr>\n",
              "      <th>188</th>\n",
              "      <td>India</td>\n",
              "      <td>161552</td>\n",
              "      <td>11971624</td>\n",
              "      <td>0.013495</td>\n",
              "    </tr>\n",
              "    <tr>\n",
              "      <th>189</th>\n",
              "      <td>Mexico</td>\n",
              "      <td>201429</td>\n",
              "      <td>2224904</td>\n",
              "      <td>0.090534</td>\n",
              "    </tr>\n",
              "    <tr>\n",
              "      <th>190</th>\n",
              "      <td>Brazil</td>\n",
              "      <td>310550</td>\n",
              "      <td>12490362</td>\n",
              "      <td>0.024863</td>\n",
              "    </tr>\n",
              "    <tr>\n",
              "      <th>191</th>\n",
              "      <td>US</td>\n",
              "      <td>549103</td>\n",
              "      <td>30220061</td>\n",
              "      <td>0.018170</td>\n",
              "    </tr>\n",
              "  </tbody>\n",
              "</table>\n",
              "<p>192 rows × 4 columns</p>\n",
              "</div>"
            ],
            "text/plain": [
              "                   country  mortes  infectados  taxa_de_mortalidade\n",
              "0                     Laos       0          49             0.000000\n",
              "1    Saint Kitts and Nevis       0          44             0.000000\n",
              "2               Micronesia       0           1             0.000000\n",
              "3                    Samoa       0           3             0.000000\n",
              "4                  Vanuatu       0           3             0.000000\n",
              "..                     ...     ...         ...                  ...\n",
              "187         United Kingdom  126813     4343066             0.029199\n",
              "188                  India  161552    11971624             0.013495\n",
              "189                 Mexico  201429     2224904             0.090534\n",
              "190                 Brazil  310550    12490362             0.024863\n",
              "191                     US  549103    30220061             0.018170\n",
              "\n",
              "[192 rows x 4 columns]"
            ]
          },
          "metadata": {
            "tags": []
          },
          "execution_count": 29
        }
      ]
    },
    {
      "cell_type": "code",
      "metadata": {
        "colab": {
          "base_uri": "https://localhost:8080/",
          "height": 359
        },
        "id": "qTDPSSrtTH_L",
        "outputId": "164f8915-be55-4aa7-ccf2-f451bc8b972a"
      },
      "source": [
        "num_paises.sort_values('taxa_de_mortalidade', ascending = False).reset_index(drop = True).head(10)"
      ],
      "execution_count": null,
      "outputs": [
        {
          "output_type": "execute_result",
          "data": {
            "text/html": [
              "<div>\n",
              "<style scoped>\n",
              "    .dataframe tbody tr th:only-of-type {\n",
              "        vertical-align: middle;\n",
              "    }\n",
              "\n",
              "    .dataframe tbody tr th {\n",
              "        vertical-align: top;\n",
              "    }\n",
              "\n",
              "    .dataframe thead th {\n",
              "        text-align: right;\n",
              "    }\n",
              "</style>\n",
              "<table border=\"1\" class=\"dataframe\">\n",
              "  <thead>\n",
              "    <tr style=\"text-align: right;\">\n",
              "      <th></th>\n",
              "      <th>country</th>\n",
              "      <th>mortes</th>\n",
              "      <th>infectados</th>\n",
              "      <th>taxa_de_mortalidade</th>\n",
              "    </tr>\n",
              "  </thead>\n",
              "  <tbody>\n",
              "    <tr>\n",
              "      <th>0</th>\n",
              "      <td>MS Zaandam</td>\n",
              "      <td>2</td>\n",
              "      <td>9</td>\n",
              "      <td>0.222222</td>\n",
              "    </tr>\n",
              "    <tr>\n",
              "      <th>1</th>\n",
              "      <td>Yemen</td>\n",
              "      <td>832</td>\n",
              "      <td>3969</td>\n",
              "      <td>0.209625</td>\n",
              "    </tr>\n",
              "    <tr>\n",
              "      <th>2</th>\n",
              "      <td>Mexico</td>\n",
              "      <td>201429</td>\n",
              "      <td>2224904</td>\n",
              "      <td>0.090534</td>\n",
              "    </tr>\n",
              "    <tr>\n",
              "      <th>3</th>\n",
              "      <td>Syria</td>\n",
              "      <td>1227</td>\n",
              "      <td>18356</td>\n",
              "      <td>0.066845</td>\n",
              "    </tr>\n",
              "    <tr>\n",
              "      <th>4</th>\n",
              "      <td>Sudan</td>\n",
              "      <td>2028</td>\n",
              "      <td>31407</td>\n",
              "      <td>0.064572</td>\n",
              "    </tr>\n",
              "    <tr>\n",
              "      <th>5</th>\n",
              "      <td>Egypt</td>\n",
              "      <td>11845</td>\n",
              "      <td>199364</td>\n",
              "      <td>0.059414</td>\n",
              "    </tr>\n",
              "    <tr>\n",
              "      <th>6</th>\n",
              "      <td>Ecuador</td>\n",
              "      <td>16679</td>\n",
              "      <td>322699</td>\n",
              "      <td>0.051686</td>\n",
              "    </tr>\n",
              "    <tr>\n",
              "      <th>7</th>\n",
              "      <td>China</td>\n",
              "      <td>4841</td>\n",
              "      <td>101663</td>\n",
              "      <td>0.047618</td>\n",
              "    </tr>\n",
              "    <tr>\n",
              "      <th>8</th>\n",
              "      <td>Bolivia</td>\n",
              "      <td>12165</td>\n",
              "      <td>269302</td>\n",
              "      <td>0.045172</td>\n",
              "    </tr>\n",
              "    <tr>\n",
              "      <th>9</th>\n",
              "      <td>Somalia</td>\n",
              "      <td>488</td>\n",
              "      <td>10838</td>\n",
              "      <td>0.045027</td>\n",
              "    </tr>\n",
              "  </tbody>\n",
              "</table>\n",
              "</div>"
            ],
            "text/plain": [
              "      country  mortes  infectados  taxa_de_mortalidade\n",
              "0  MS Zaandam       2           9             0.222222\n",
              "1       Yemen     832        3969             0.209625\n",
              "2      Mexico  201429     2224904             0.090534\n",
              "3       Syria    1227       18356             0.066845\n",
              "4       Sudan    2028       31407             0.064572\n",
              "5       Egypt   11845      199364             0.059414\n",
              "6     Ecuador   16679      322699             0.051686\n",
              "7       China    4841      101663             0.047618\n",
              "8     Bolivia   12165      269302             0.045172\n",
              "9     Somalia     488       10838             0.045027"
            ]
          },
          "metadata": {
            "tags": []
          },
          "execution_count": 30
        }
      ]
    },
    {
      "cell_type": "markdown",
      "metadata": {
        "id": "XLqkIxTlAEUS"
      },
      "source": [
        "Resposta: A taxa de mortalidade não é uma boa métrica, pois não possui um comparativo com a população do país e não identifica os paises que estão com o maior problema atualmente.\n",
        "\n",
        "Outro ponto é que aparentemente o país com o maior indice corresponde a um navio que sofreu com um problema de infectados.\n",
        "\n",
        "https://www.bloomberg.com/features/2020-zaandam-pariah-ship/\n",
        "#\n",
        "https://en.wikipedia.org/wiki/MS_Zaandam"
      ]
    },
    {
      "cell_type": "markdown",
      "metadata": {
        "id": "bF7iRzJ3lzjs"
      },
      "source": [
        "##Exercicio 5 – Gere os seguintes gráficos:"
      ]
    },
    {
      "cell_type": "markdown",
      "metadata": {
        "id": "BTvI8ovMmByC"
      },
      "source": [
        "###a)Gráfico  de  linhas  contendo  a  evolução  do  número  de  infectados  do  Brasil e Estados Unidos."
      ]
    },
    {
      "cell_type": "code",
      "metadata": {
        "id": "j9amfsEb_J0t",
        "colab": {
          "base_uri": "https://localhost:8080/",
          "height": 162
        },
        "outputId": "d31682b2-8b3e-4cea-e982-fb4c2bb6d844"
      },
      "source": [
        "filtro_Br_pivot_inf = filtro_Br.pivot(index = 'date', columns = 'country', values = 'infected')"
      ],
      "execution_count": null,
      "outputs": [
        {
          "output_type": "error",
          "ename": "NameError",
          "evalue": "ignored",
          "traceback": [
            "\u001b[0;31m---------------------------------------------------------------------------\u001b[0m",
            "\u001b[0;31mNameError\u001b[0m                                 Traceback (most recent call last)",
            "\u001b[0;32m<ipython-input-11-ef02be180dd8>\u001b[0m in \u001b[0;36m<module>\u001b[0;34m()\u001b[0m\n\u001b[0;32m----> 1\u001b[0;31m \u001b[0mfiltro_Br_pivot_inf\u001b[0m \u001b[0;34m=\u001b[0m \u001b[0mfiltro_Br\u001b[0m\u001b[0;34m.\u001b[0m\u001b[0mpivot\u001b[0m\u001b[0;34m(\u001b[0m\u001b[0mindex\u001b[0m \u001b[0;34m=\u001b[0m \u001b[0;34m'date'\u001b[0m\u001b[0;34m,\u001b[0m \u001b[0mcolumns\u001b[0m \u001b[0;34m=\u001b[0m \u001b[0;34m'country'\u001b[0m\u001b[0;34m,\u001b[0m \u001b[0mvalues\u001b[0m \u001b[0;34m=\u001b[0m \u001b[0;34m'infected'\u001b[0m\u001b[0;34m)\u001b[0m\u001b[0;34m\u001b[0m\u001b[0;34m\u001b[0m\u001b[0m\n\u001b[0m",
            "\u001b[0;31mNameError\u001b[0m: name 'filtro_Br' is not defined"
          ]
        }
      ]
    },
    {
      "cell_type": "code",
      "metadata": {
        "id": "ZfGHNL6FIheN",
        "colab": {
          "base_uri": "https://localhost:8080/",
          "height": 178
        },
        "outputId": "8e2b4fd3-7ac9-4526-f9c0-b913225872e0"
      },
      "source": [
        "filtro_Us_pivot_inf = filtro_us.pivot(index = 'date', columns = 'country', values = 'infected')\n",
        "filtro_Us_pivot_inf\n"
      ],
      "execution_count": null,
      "outputs": [
        {
          "output_type": "error",
          "ename": "NameError",
          "evalue": "ignored",
          "traceback": [
            "\u001b[0;31m---------------------------------------------------------------------------\u001b[0m",
            "\u001b[0;31mNameError\u001b[0m                                 Traceback (most recent call last)",
            "\u001b[0;32m<ipython-input-12-bc44cb04f972>\u001b[0m in \u001b[0;36m<module>\u001b[0;34m()\u001b[0m\n\u001b[0;32m----> 1\u001b[0;31m \u001b[0mfiltro_Us_pivot_inf\u001b[0m \u001b[0;34m=\u001b[0m \u001b[0mfiltro_us\u001b[0m\u001b[0;34m.\u001b[0m\u001b[0mpivot\u001b[0m\u001b[0;34m(\u001b[0m\u001b[0mindex\u001b[0m \u001b[0;34m=\u001b[0m \u001b[0;34m'date'\u001b[0m\u001b[0;34m,\u001b[0m \u001b[0mcolumns\u001b[0m \u001b[0;34m=\u001b[0m \u001b[0;34m'country'\u001b[0m\u001b[0;34m,\u001b[0m \u001b[0mvalues\u001b[0m \u001b[0;34m=\u001b[0m \u001b[0;34m'infected'\u001b[0m\u001b[0;34m)\u001b[0m\u001b[0;34m\u001b[0m\u001b[0;34m\u001b[0m\u001b[0m\n\u001b[0m\u001b[1;32m      2\u001b[0m \u001b[0mfiltro_Us_pivot_inf\u001b[0m\u001b[0;34m\u001b[0m\u001b[0;34m\u001b[0m\u001b[0m\n",
            "\u001b[0;31mNameError\u001b[0m: name 'filtro_us' is not defined"
          ]
        }
      ]
    },
    {
      "cell_type": "code",
      "metadata": {
        "id": "0SMgFz2BJGyu"
      },
      "source": [
        "df_BrXUs_inf = pd.concat([filtro_Br_pivot_inf,filtro_Us_pivot_inf], sort = False,axis=1)\n",
        "df_BrXUs_inf"
      ],
      "execution_count": null,
      "outputs": []
    },
    {
      "cell_type": "code",
      "metadata": {
        "id": "Go3nZRGwJzUh"
      },
      "source": [
        "graf_lin_inf = df_BrXUs_inf.plot.line()\n",
        "plt.xlabel('Período')\n",
        "plt.ylabel('Infectados')\n",
        "plt.title('Evolução infectados Brasil x US')"
      ],
      "execution_count": null,
      "outputs": []
    },
    {
      "cell_type": "markdown",
      "metadata": {
        "id": "GtUg6yu4WFeN"
      },
      "source": [
        "###b)Gráfico de linhas contendo a evolução do número de mortos do Brasil e Estados Unidos."
      ]
    },
    {
      "cell_type": "code",
      "metadata": {
        "id": "obW4koFFWxPX"
      },
      "source": [
        "filtro_Br_pivot_dead = filtro_Br.pivot(index = 'date', columns = 'country', values = 'dead')"
      ],
      "execution_count": null,
      "outputs": []
    },
    {
      "cell_type": "code",
      "metadata": {
        "id": "2j2JH9DEL6td"
      },
      "source": [
        "filtro_Us_pivot_dead = filtro_us.pivot(index = 'date', columns = 'country', values = 'dead')"
      ],
      "execution_count": null,
      "outputs": []
    },
    {
      "cell_type": "code",
      "metadata": {
        "id": "1X-aKc1bMKil"
      },
      "source": [
        "df_BrXUs_dead = pd.concat([filtro_Br_pivot_dead,filtro_Us_pivot_dead], sort = False,axis=1)\n",
        "df_BrXUs_dead"
      ],
      "execution_count": null,
      "outputs": []
    },
    {
      "cell_type": "code",
      "metadata": {
        "id": "tWda08_rMYjs"
      },
      "source": [
        "graf_lin_dead = df_BrXUs_dead.plot.line()\n",
        "plt.xlabel('Período')\n",
        "plt.ylabel('Mortes')\n",
        "plt.title('Evolução de mortes Brasil x US')"
      ],
      "execution_count": null,
      "outputs": []
    },
    {
      "cell_type": "markdown",
      "metadata": {
        "id": "4yAt77YAWFsL"
      },
      "source": [
        "###c)Gráfico de barras comparando o número de infectadosde Brasil e Estados Unidos em 20/mar."
      ]
    },
    {
      "cell_type": "code",
      "metadata": {
        "id": "YZws2Dck4Hyl"
      },
      "source": [
        "filtro_inf_dead20mar = dados_country_infected_dead [dados_country_infected_dead ['date'] == '2021-03-20']\n",
        "filtro_inf_dead20mar"
      ],
      "execution_count": null,
      "outputs": []
    },
    {
      "cell_type": "code",
      "metadata": {
        "id": "HljfIuhJ4H-V"
      },
      "source": [
        "filtro_inf_dead20mar_brXus = filtro_inf_dead20mar[filtro_inf_dead20mar['country'].isin(['Brazil', 'US'])]\n",
        "filtro_inf_dead20mar_brXus"
      ],
      "execution_count": null,
      "outputs": []
    },
    {
      "cell_type": "code",
      "metadata": {
        "id": "hQUA1Rz8473A"
      },
      "source": [
        "graf_inf = filtro_inf_dead20mar_brXus[['country', 'infected']]\n",
        "graf_inf"
      ],
      "execution_count": null,
      "outputs": []
    },
    {
      "cell_type": "code",
      "metadata": {
        "id": "5jwOxVLK477i"
      },
      "source": [
        "ax = graf_inf.plot.bar(x = 'country', y = 'infected', legend = None)\n",
        "plt.xlabel('Países')\n",
        "plt.ylabel('Infectados')\n",
        "plt.title('Compativo de infectados 20/03/2021')"
      ],
      "execution_count": null,
      "outputs": []
    },
    {
      "cell_type": "code",
      "metadata": {
        "id": "ZlhFBjaY47_5"
      },
      "source": [],
      "execution_count": null,
      "outputs": []
    },
    {
      "cell_type": "code",
      "metadata": {
        "id": "GoMoBhHBsniq"
      },
      "source": [],
      "execution_count": null,
      "outputs": []
    },
    {
      "cell_type": "markdown",
      "metadata": {
        "id": "dC_EA9gVWF3M"
      },
      "source": [
        "###d)Gráfico  de  barras  comparando  o  número  de  mortos  de  Brasil  e Estados  Unidos  em 20/mar."
      ]
    },
    {
      "cell_type": "code",
      "metadata": {
        "id": "yfgOf3FRWx6a"
      },
      "source": [
        "graf_dead = filtro_inf_dead20mar_brXus[['country', 'dead']]\n",
        "graf_dead"
      ],
      "execution_count": null,
      "outputs": []
    },
    {
      "cell_type": "code",
      "metadata": {
        "id": "w7rSzUlsu9cW"
      },
      "source": [
        "bx = graf_dead.plot.bar(x = 'country', y = 'dead', legend = None)\n",
        "plt.xlabel('Países')\n",
        "plt.ylabel('Mortes')\n",
        "plt.title('Compativo de mortes 20/03/2021')"
      ],
      "execution_count": null,
      "outputs": []
    },
    {
      "cell_type": "markdown",
      "metadata": {
        "id": "MgY6KHi1WGAs"
      },
      "source": [
        "###e)Gráfico  de  barras  comparando  a  taxa  de  mortalidade  de  Brasil  e Estados  Unidos em 20/mar."
      ]
    },
    {
      "cell_type": "code",
      "metadata": {
        "id": "-Yk9Bmm0WybC"
      },
      "source": [
        "filtro_data_20marc = dados_covid[dados_covid['date'] == '2021-03-20']\n",
        "filtro_data_20marc"
      ],
      "execution_count": null,
      "outputs": []
    },
    {
      "cell_type": "code",
      "metadata": {
        "id": "e3e-qXkcl1-a"
      },
      "source": [
        "num_paises_20marc = filtro_data_20marc.groupby('country').agg(mortes = pd.NamedAgg(column = 'dead',\n",
        "                                                                     aggfunc = np.mean),\n",
        "                                                infectados = pd.NamedAgg(column = 'infected',\n",
        "                                                                         aggfunc = np.mean),) \\\n",
        "                                                                         .sort_values('mortes').reset_index()\n",
        "num_paises_20marc"
      ],
      "execution_count": null,
      "outputs": []
    },
    {
      "cell_type": "code",
      "metadata": {
        "id": "tp_wv9LLozvC"
      },
      "source": [
        "num_paises_20marc ['taxa_de_mortalidade'] = num_paises_20marc['mortes'] / num_paises_20marc['infectados']\n",
        "num_paises_20marc"
      ],
      "execution_count": null,
      "outputs": []
    },
    {
      "cell_type": "code",
      "metadata": {
        "id": "z0vS7nIOpId-"
      },
      "source": [
        "num_paises_20marc = num_paises_20marc[num_paises_20marc['country'].isin(['Brazil', 'US'])]\n",
        "num_paises_20marc"
      ],
      "execution_count": null,
      "outputs": []
    },
    {
      "cell_type": "code",
      "metadata": {
        "id": "ubhaHz9Opu4p"
      },
      "source": [
        "graf_taxmor = num_paises_20marc[['country', 'taxa_de_mortalidade']]\n",
        "graf_taxmor"
      ],
      "execution_count": null,
      "outputs": []
    },
    {
      "cell_type": "code",
      "metadata": {
        "id": "SGsr-JWkqBsf"
      },
      "source": [
        "cx = graf_taxmor.plot.bar(x = 'country', y = 'taxa_de_mortalidade', legend = None)\n",
        "plt.xlabel('Países')\n",
        "plt.ylabel('Taxa de mortalidade')\n",
        "plt.title('Compativo de mortes/infectados 20/03/2021')"
      ],
      "execution_count": null,
      "outputs": []
    }
  ]
}